{
 "cells": [
  {
   "cell_type": "code",
   "execution_count": 1,
   "metadata": {},
   "outputs": [],
   "source": [
    "class Instr(object):\n",
    "    def __init__(self, function, addr, mnemonic, op_str):\n",
    "        self.function = function\n",
    "        self.addr = addr\n",
    "        self.mnemonic = mnemonic\n",
    "        self.op_str = op_str\n",
    "    def __str__(self):\n",
    "        return f'{self.function}@{hex(self.addr)}: {self.mnemonic} {self.op_str}'\n",
    "\n",
    "class Line(object):\n",
    "    def __init__(self, filename, lineno, addr):\n",
    "        self.filename = filename\n",
    "        self.lineno = lineno\n",
    "        self.addr = addr\n",
    "    def __str__(self):\n",
    "        return f'{self.filename}:{self.lineno}({hex(self.addr)})'"
   ]
  },
  {
   "cell_type": "code",
   "execution_count": 2,
   "metadata": {},
   "outputs": [],
   "source": [
    "from elftools.elf.elffile import ELFFile\n",
    "from elftools.elf.sections import SymbolTableSection\n",
    "\n",
    "file = open(\"libftfp.so\", \"rb\")\n",
    "elf = ELFFile(file)\n",
    "sections = list(elf.iter_sections())\n",
    "text_section = [s for s in sections if s.name == \".text\"][0]"
   ]
  },
  {
   "cell_type": "code",
   "execution_count": 3,
   "metadata": {},
   "outputs": [],
   "source": [
    "symbol_tables = [s for s in sections if isinstance(s, SymbolTableSection)]\n",
    "dynsym = [s for s in symbol_tables if s.name == \".dynsym\"][0];"
   ]
  },
  {
   "cell_type": "code",
   "execution_count": 4,
   "metadata": {},
   "outputs": [],
   "source": [
    "functions = [sym for _, sym in enumerate(dynsym.iter_symbols()) if sym['st_info']['type'] == \"STT_FUNC\" and sym.name[:4] == \"fix_\"]"
   ]
  },
  {
   "cell_type": "code",
   "execution_count": 5,
   "metadata": {},
   "outputs": [],
   "source": [
    "def get_function_code(function):\n",
    "    begin_idx = function['st_value'] - text_section['sh_offset']\n",
    "    end_idx = begin_idx + function['st_size']\n",
    "    return text_section.data()[begin_idx:end_idx]"
   ]
  },
  {
   "cell_type": "code",
   "execution_count": 6,
   "metadata": {},
   "outputs": [],
   "source": [
    "general_purpose_regs = [\"W\" + str(i) for i in range(0, 31)] + [\"X\" + str(i) for i in range(0, 31)] + [\"SP\", \"LR\", \"XZR\"]\n",
    "dit_instrs = ['ADC', 'ADCS', 'ADD', 'ADDS', 'AND', 'ANDS', 'ASR', 'ASRV', 'BFC', 'BFI', 'BFM', 'BFXIL', 'BIC', 'BICS', 'CCMN', 'CCMP', 'CFINV', 'CINC', 'CINV', 'CLS', 'CLZ', 'CMN', 'CMP', 'CNEG', 'CSEL', 'CSET', 'CSETM', 'CSINC', 'CSINV', 'CSNEG', 'EON', 'EOR', 'EXTR', 'LSL', 'LSLV', 'LSR', 'LSRV', 'MADD', 'MNEG', 'MOV', 'MOVK', 'MOVN', 'MOVZ', 'MSUB', 'MUL', 'MVN', 'NEG', 'NEGS', 'NGC', 'NGCS', 'NOP', 'ORN', 'ORR', 'RBIT', 'RET', 'REV', 'REV16', 'REV32', 'REV64', 'RMIF', 'ROR', 'RORV', 'SBC', 'SBCS', 'SBFIZ', 'SBFM', 'SBFX', 'SETF8', 'SETF16', 'SMADDL', 'SMNEGL', 'SMSUBL', 'SMULH', 'SMULL', 'SUB', 'SUBS', 'SXTB', 'SXTH', 'SXTW', 'TST', 'UBFIZ', 'UBFM', 'UBFX', 'UMADDL', 'UMNEGL', 'UMSUBL', 'UMULH', 'UMULL', 'UXTB', 'UXTH'] # these are the instructions for the general-purpose register file\n",
    "dit_simd_instrs = [\"ABS\", \"ADD\", \"ADDHN\", \"ADDHN2\", \"ADDP\", \"ADDV\", \"AND\", \"BIC\", \"BIF\", \"BIT\", \"BSL\", \"CLS\", \"CLZ\", \"CMEQ\", \"CMGE\", \"CMGT\", \"CMHI\", \"CMHS\", \"CMLE\", \"CMLT\", \"CMTST\", \"CNT\", \"CRC32B\", \"CRC32H\", \"CRC32W\", \"CRC32X\", \"CRC32CB\", \"CRC32CH\", \"CRC32CW\", \"CRC32CX\", \"DUP\", \"EOR\", \"EXT\", \"FCSEL\", \"INS\", \"MLA\", \"MLS\", \"MOV\", \"MOVI\", \"MUL\", \"MVN\", \"MVNI\", \"NEG\", \"NOT\", \"ORN\", \"ORR\", \"PMUL\", \"PMULL\", \"PMULL2\", \"RADDHN\", \"RADDHN2\", \"RBIT\", \"REV16\", \"REV32\", \"RSHRN\", \"RSHRN2\", \"RSUBHN\", \"RSUBHN2\", \"SABA\", \"SABD\", \"SABAL\", \"SABAL2\", \"SABDL\", \"SABDL2\", \"SADALP\", \"SADDL\", \"SADDL2\", \"SADDLP\", \"SADDLV\", \"SADDW\", \"SADDW2\", \"SHADD\", \"SHL\", \"SHLL\", \"SHLL2\", \"SHRN\", \"SHRN2\", \"SHSUB\", \"SLI\", \"SMAX\", \"SMAXP\", \"SMAXV\", \"SMIN\", \"SMINP\", \"SMINV\", \"SMLAL\", \"SMLAL2\", \"SMLSL\", \"SMLSL2\", \"SMOV\", \"SMULL\", \"SMULL2\", \"SRI\", \"SSHL\", \"SSHLL\", \"SSHLL2\", \"SSHR\", \"SSRA\", \"SSUBL\", \"SSUBL2\", \"SSUBW\", \"SSUBW2\", \"SUB\", \"SUBHN\", \"SUBHN2\", \"SXTL\", \"SXTL2\", \"TBL\", \"TBX\", \"TRN1\", \"TRN2\", \"UABA\", \"UABAL\", \"UABAL2\", \"UABD\", \"UABDL\", \"UABDL2\", \"UADALP\", \"UADDL\", \"UADDL2\", \"UADDLP\", \"UADDLV\", \"UADDW\", \"UADDW2\", \"UHADD\", \"UHSUB\", \"UMAX\", \"UMAXP\", \"UMAXV\", \"UMIN\", \"UMINP\", \"UMINV\", \"UMLAL\", \"UMLAL2\", \"UMLSL\", \"UMOV\", \"UMLSL2\", \"UMULL\", \"UMULL2\", \"USHL\", \"USHLL\", \"USHLL2\", \"USHR\", \"USRA\", \"USUBL\", \"USUBL2\", \"USUBW\", \"USUBW2\", \"UXTL\", \"UXTL2\", \"UZP1\", \"UZP2\", \"XTN\", \"XTN2\", \"ZIP1\", \"ZIP2\"] # these are the instructions for the SIMD & FP register file"
   ]
  },
  {
   "cell_type": "code",
   "execution_count": 7,
   "metadata": {
    "tags": []
   },
   "outputs": [],
   "source": [
    "from capstone import *\n",
    "\n",
    "bad_instrs = []\n",
    "md = Cs(CS_ARCH_ARM64, CS_MODE_ARM)\n",
    "\n",
    "for function in functions:\n",
    "    code = get_function_code(function)\n",
    "    \n",
    "    instrs = [i for i in md.disasm_lite(code, function['st_value'])]\n",
    "    \n",
    "    if(len(instrs) != len(code) / 4): \n",
    "        print(\"invalid disassembly for \" + function.name)\n",
    "        continue\n",
    "    \n",
    "    for (addr, size, mnemonic, op_str) in instrs:\n",
    "        if(op_str == '' or op_str.split(\",\")[0].upper() in general_purpose_regs):\n",
    "            if(mnemonic.upper() not in dit_instrs):\n",
    "                bad_instrs += [Instr(function.name, addr, mnemonic, op_str)]\n",
    "        elif(mnemonic.upper() not in dit_simd_instrs):\n",
    "            bad_instrs += [Instr(function.name, addr, mnemonic, op_str)]"
   ]
  },
  {
   "cell_type": "code",
   "execution_count": 8,
   "metadata": {},
   "outputs": [
    {
     "output_type": "execute_result",
     "data": {
      "text/plain": "{&#39;adrp&#39;, &#39;b.ne&#39;, &#39;bl&#39;, &#39;cbnz&#39;, &#39;ldp&#39;, &#39;ldr&#39;, &#39;stp&#39;, &#39;str&#39;, &#39;strb&#39;}"
     },
     "metadata": {},
     "execution_count": 8
    }
   ],
   "source": [
    "set([i.mnemonic for i in bad_instrs])"
   ]
  },
  {
   "cell_type": "code",
   "execution_count": 9,
   "metadata": {
    "tags": []
   },
   "outputs": [],
   "source": [
    "from bisect import bisect_left\n",
    "\n",
    "dwarf = elf.get_dwarf_info()\n",
    "def get_lines_from_cu(cu):\n",
    "    res = []\n",
    "    lineprogram = dwarf.line_program_for_CU(cu)\n",
    "    for entry in lineprogram.get_entries():\n",
    "        state = entry.state\n",
    "        if state is not None:\n",
    "            res += [Line(lineprogram['file_entry'][state.file-1].name, state.line, state.address)]\n",
    "    return res\n",
    "\n",
    "def get_lines_from_dwarf(dwarf):\n",
    "    res = []\n",
    "    for cu in dwarf.iter_CUs():\n",
    "        res += get_lines_from_cu(cu)\n",
    "    return sorted(res, key=lambda l: l.addr)\n",
    "\n",
    "def find_line(lines, addr):\n",
    "    exact_matches = [l for l in filter(lambda line: line.addr == addr, lines)]\n",
    "    if(len(exact_matches) != 0):\n",
    "        return exact_matches\n",
    "    addrs = [l.addr for l in lines]\n",
    "    return [lines[bisect_left(addrs, addr) - 1]]\n",
    "\n",
    "lines = get_lines_from_dwarf(dwarf)"
   ]
  },
  {
   "cell_type": "code",
   "execution_count": 10,
   "metadata": {},
   "outputs": [
    {
     "output_type": "execute_result",
     "data": {
      "text/plain": "[]"
     },
     "metadata": {},
     "execution_count": 10
    }
   ],
   "source": [
    "#stores outside of the stack\n",
    "[(str(i), str(find_line(lines, i.addr)[0])) for i in bad_instrs if i.mnemonic == \"str\" and i.op_str.split(\", \")[1][0:3] != \"[sp\"]\n"
   ]
  },
  {
   "cell_type": "code",
   "execution_count": 11,
   "metadata": {},
   "outputs": [
    {
     "output_type": "execute_result",
     "data": {
      "text/plain": "[]"
     },
     "metadata": {},
     "execution_count": 11
    }
   ],
   "source": [
    "[(str(i), str(find_line(lines, i.addr)[0])) for i in bad_instrs if i.function == \"fix_eq\"]"
   ]
  },
  {
   "cell_type": "code",
   "execution_count": 12,
   "metadata": {},
   "outputs": [
    {
     "output_type": "execute_result",
     "data": {
      "text/plain": "[&lt;elftools.elf.sections.Symbol at 0x7f8b10301ac0&gt;,\n &lt;elftools.elf.sections.Symbol at 0x7f8b10301b20&gt;,\n &lt;elftools.elf.sections.Symbol at 0x7f8b10153f10&gt;,\n &lt;elftools.elf.sections.Symbol at 0x7f8b10153fd0&gt;,\n &lt;elftools.elf.sections.Symbol at 0x7f8b1015d040&gt;,\n &lt;elftools.elf.sections.Symbol at 0x7f8b1015d130&gt;,\n &lt;elftools.elf.sections.Symbol at 0x7f8b1015d220&gt;,\n &lt;elftools.elf.sections.Symbol at 0x7f8b1015d310&gt;,\n &lt;elftools.elf.sections.Symbol at 0x7f8b1015d400&gt;,\n &lt;elftools.elf.sections.Symbol at 0x7f8b1015d4f0&gt;,\n &lt;elftools.elf.sections.Symbol at 0x7f8b1015d5e0&gt;,\n &lt;elftools.elf.sections.Symbol at 0x7f8b1015d6d0&gt;,\n &lt;elftools.elf.sections.Symbol at 0x7f8b1015d7c0&gt;,\n &lt;elftools.elf.sections.Symbol at 0x7f8b1015d8b0&gt;,\n &lt;elftools.elf.sections.Symbol at 0x7f8b1015d9a0&gt;,\n &lt;elftools.elf.sections.Symbol at 0x7f8b1015da90&gt;,\n &lt;elftools.elf.sections.Symbol at 0x7f8b1015db80&gt;,\n &lt;elftools.elf.sections.Symbol at 0x7f8b1015dc70&gt;,\n &lt;elftools.elf.sections.Symbol at 0x7f8b1015dd60&gt;,\n &lt;elftools.elf.sections.Symbol at 0x7f8b1015de50&gt;,\n &lt;elftools.elf.sections.Symbol at 0x7f8b10165070&gt;,\n &lt;elftools.elf.sections.Symbol at 0x7f8b1015df40&gt;,\n &lt;elftools.elf.sections.Symbol at 0x7f8b101650d0&gt;,\n &lt;elftools.elf.sections.Symbol at 0x7f8b10165250&gt;,\n &lt;elftools.elf.sections.Symbol at 0x7f8b10165340&gt;,\n &lt;elftools.elf.sections.Symbol at 0x7f8b10165430&gt;,\n &lt;elftools.elf.sections.Symbol at 0x7f8b10165520&gt;,\n &lt;elftools.elf.sections.Symbol at 0x7f8b10165610&gt;,\n &lt;elftools.elf.sections.Symbol at 0x7f8b10165700&gt;,\n &lt;elftools.elf.sections.Symbol at 0x7f8b101657f0&gt;,\n &lt;elftools.elf.sections.Symbol at 0x7f8b101658e0&gt;,\n &lt;elftools.elf.sections.Symbol at 0x7f8b101659d0&gt;,\n &lt;elftools.elf.sections.Symbol at 0x7f8b10165ac0&gt;,\n &lt;elftools.elf.sections.Symbol at 0x7f8b10165bb0&gt;,\n &lt;elftools.elf.sections.Symbol at 0x7f8b10165ca0&gt;,\n &lt;elftools.elf.sections.Symbol at 0x7f8b10165d90&gt;,\n &lt;elftools.elf.sections.Symbol at 0x7f8b10165e80&gt;,\n &lt;elftools.elf.sections.Symbol at 0x7f8b10165f70&gt;,\n &lt;elftools.elf.sections.Symbol at 0x7f8b101690a0&gt;]"
     },
     "metadata": {},
     "execution_count": 12
    }
   ],
   "source": [
    "functions"
   ]
  },
  {
   "cell_type": "code",
   "execution_count": null,
   "metadata": {},
   "outputs": [],
   "source": []
  }
 ],
 "metadata": {
  "kernelspec": {
   "display_name": "Python 3",
   "language": "python",
   "name": "python3"
  },
  "language_info": {
   "codemirror_mode": {
    "name": "ipython",
    "version": 3
   },
   "file_extension": ".py",
   "mimetype": "text/x-python",
   "name": "python",
   "nbconvert_exporter": "python",
   "pygments_lexer": "ipython3",
   "version": "3.8.2-final"
  }
 },
 "nbformat": 4,
 "nbformat_minor": 4
}