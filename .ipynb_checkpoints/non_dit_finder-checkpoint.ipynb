{
 "cells": [
  {
   "cell_type": "code",
   "execution_count": null,
   "metadata": {},
   "outputs": [],
   "source": [
    "class Instr(object):\n",
    "    def __init__(self, function, addr, mnemonic, op_str):\n",
    "        self.function = function\n",
    "        self.addr = addr\n",
    "        self.mnemonic = mnemonic\n",
    "        self.op_str = op_str\n",
    "    def __str__(self):\n",
    "        return f'{self.function}@{hex(self.addr)}: {self.mnemonic} {self.op_str}'\n",
    "\n",
    "class Line(object):\n",
    "    def __init__(self, filename, lineno, addr):\n",
    "        self.filename = filename\n",
    "        self.lineno = lineno\n",
    "        self.addr = addr\n",
    "    def __str__(self):\n",
    "        return f'{self.filename}:{self.lineno}({hex(self.addr)})'"
   ]
  },
  {
   "cell_type": "code",
   "execution_count": null,
   "metadata": {},
   "outputs": [],
   "source": [
    "from elftools.elf.elffile import ELFFile\n",
    "from elftools.elf.sections import SymbolTableSection\n",
    "\n",
    "file = open(\"libftfp.so\", \"rb\")\n",
    "elf = ELFFile(file)\n",
    "sections = list(elf.iter_sections())\n",
    "text_section = [s for s in sections if s.name == \".text\"][0]"
   ]
  },
  {
   "cell_type": "code",
   "execution_count": null,
   "metadata": {},
   "outputs": [],
   "source": [
    "symbol_tables = [s for s in sections if isinstance(s, SymbolTableSection)]\n",
    "dynsym = [s for s in symbol_tables if s.name == \".dynsym\"][0];"
   ]
  },
  {
   "cell_type": "code",
   "execution_count": null,
   "metadata": {},
   "outputs": [],
   "source": [
    "functions = [sym for _, sym in enumerate(dynsym.iter_symbols()) if sym['st_info']['type'] == \"STT_FUNC\" and sym.name[:4] == \"fix_\"]"
   ]
  },
  {
   "cell_type": "code",
   "execution_count": null,
   "metadata": {},
   "outputs": [],
   "source": [
    "def get_function_code(function):\n",
    "    begin_idx = function['st_value'] - text_section['sh_offset']\n",
    "    end_idx = begin_idx + function['st_size']\n",
    "    return text_section.data()[begin_idx:end_idx]"
   ]
  },
  {
   "cell_type": "code",
   "execution_count": null,
   "metadata": {},
   "outputs": [],
   "source": [
    "general_purpose_regs = [\"W\" + str(i) for i in range(0, 31)] + [\"X\" + str(i) for i in range(0, 31)] + [\"SP\", \"LR\", \"XZR\"]\n",
    "dit_instrs = ['ADC', 'ADCS', 'ADD', 'ADDS', 'AND', 'ANDS', 'ASR', 'ASRV', 'BFC', 'BFI', 'BFM', 'BFXIL', 'BIC', 'BICS', 'CCMN', 'CCMP', 'CFINV', 'CINC', 'CINV', 'CLS', 'CLZ', 'CMN', 'CMP', 'CNEG', 'CSEL', 'CSET', 'CSETM', 'CSINC', 'CSINV', 'CSNEG', 'EON', 'EOR', 'EXTR', 'LSL', 'LSLV', 'LSR', 'LSRV', 'MADD', 'MNEG', 'MOV', 'MOVK', 'MOVN', 'MOVZ', 'MSUB', 'MUL', 'MVN', 'NEG', 'NEGS', 'NGC', 'NGCS', 'NOP', 'ORN', 'ORR', 'RBIT', 'RET', 'REV', 'REV16', 'REV32', 'REV64', 'RMIF', 'ROR', 'RORV', 'SBC', 'SBCS', 'SBFIZ', 'SBFM', 'SBFX', 'SETF8', 'SETF16', 'SMADDL', 'SMNEGL', 'SMSUBL', 'SMULH', 'SMULL', 'SUB', 'SUBS', 'SXTB', 'SXTH', 'SXTW', 'TST', 'UBFIZ', 'UBFM', 'UBFX', 'UMADDL', 'UMNEGL', 'UMSUBL', 'UMULH', 'UMULL', 'UXTB', 'UXTH'] # these are the instructions for the general-purpose register file\n",
    "dit_simd_instrs = [\"ABS\", \"ADD\", \"ADDHN\", \"ADDHN2\", \"ADDP\", \"ADDV\", \"AND\", \"BIC\", \"BIF\", \"BIT\", \"BSL\", \"CLS\", \"CLZ\", \"CMEQ\", \"CMGE\", \"CMGT\", \"CMHI\", \"CMHS\", \"CMLE\", \"CMLT\", \"CMTST\", \"CNT\", \"CRC32B\", \"CRC32H\", \"CRC32W\", \"CRC32X\", \"CRC32CB\", \"CRC32CH\", \"CRC32CW\", \"CRC32CX\", \"DUP\", \"EOR\", \"EXT\", \"FCSEL\", \"INS\", \"MLA\", \"MLS\", \"MOV\", \"MOVI\", \"MUL\", \"MVN\", \"MVNI\", \"NEG\", \"NOT\", \"ORN\", \"ORR\", \"PMUL\", \"PMULL\", \"PMULL2\", \"RADDHN\", \"RADDHN2\", \"RBIT\", \"REV16\", \"REV32\", \"RSHRN\", \"RSHRN2\", \"RSUBHN\", \"RSUBHN2\", \"SABA\", \"SABD\", \"SABAL\", \"SABAL2\", \"SABDL\", \"SABDL2\", \"SADALP\", \"SADDL\", \"SADDL2\", \"SADDLP\", \"SADDLV\", \"SADDW\", \"SADDW2\", \"SHADD\", \"SHL\", \"SHLL\", \"SHLL2\", \"SHRN\", \"SHRN2\", \"SHSUB\", \"SLI\", \"SMAX\", \"SMAXP\", \"SMAXV\", \"SMIN\", \"SMINP\", \"SMINV\", \"SMLAL\", \"SMLAL2\", \"SMLSL\", \"SMLSL2\", \"SMOV\", \"SMULL\", \"SMULL2\", \"SRI\", \"SSHL\", \"SSHLL\", \"SSHLL2\", \"SSHR\", \"SSRA\", \"SSUBL\", \"SSUBL2\", \"SSUBW\", \"SSUBW2\", \"SUB\", \"SUBHN\", \"SUBHN2\", \"SXTL\", \"SXTL2\", \"TBL\", \"TBX\", \"TRN1\", \"TRN2\", \"UABA\", \"UABAL\", \"UABAL2\", \"UABD\", \"UABDL\", \"UABDL2\", \"UADALP\", \"UADDL\", \"UADDL2\", \"UADDLP\", \"UADDLV\", \"UADDW\", \"UADDW2\", \"UHADD\", \"UHSUB\", \"UMAX\", \"UMAXP\", \"UMAXV\", \"UMIN\", \"UMINP\", \"UMINV\", \"UMLAL\", \"UMLAL2\", \"UMLSL\", \"UMOV\", \"UMLSL2\", \"UMULL\", \"UMULL2\", \"USHL\", \"USHLL\", \"USHLL2\", \"USHR\", \"USRA\", \"USUBL\", \"USUBL2\", \"USUBW\", \"USUBW2\", \"UXTL\", \"UXTL2\", \"UZP1\", \"UZP2\", \"XTN\", \"XTN2\", \"ZIP1\", \"ZIP2\"] # these are the instructions for the SIMD & FP register file"
   ]
  },
  {
   "cell_type": "code",
   "execution_count": null,
   "metadata": {},
   "outputs": [],
   "source": [
    "#remove the multiplication instructions\n",
    "dit_instrs = [i for i in dir_instrs if i != \"MADD\" and i != \"MUL\" and i != \"MSUB\"]"
   ]
  },
  {
   "cell_type": "code",
   "execution_count": 7,
   "metadata": {
    "tags": []
   },
   "outputs": [],
   "source": [
    "from capstone import *\n",
    "\n",
    "bad_instrs = []\n",
    "md = Cs(CS_ARCH_ARM64, CS_MODE_ARM)\n",
    "\n",
    "for function in functions:\n",
    "    code = get_function_code(function)\n",
    "    \n",
    "    instrs = [i for i in md.disasm_lite(code, function['st_value'])]\n",
    "    \n",
    "    if(len(instrs) != len(code) / 4): \n",
    "        print(\"invalid disassembly for \" + function.name)\n",
    "        continue\n",
    "    \n",
    "    for (addr, size, mnemonic, op_str) in instrs:\n",
    "        if(op_str == '' or op_str.split(\",\")[0].upper() in general_purpose_regs):\n",
    "            if(mnemonic.upper() not in dit_instrs):\n",
    "                bad_instrs += [Instr(function.name, addr, mnemonic, op_str)]\n",
    "        elif(mnemonic.upper() not in dit_simd_instrs):\n",
    "            bad_instrs += [Instr(function.name, addr, mnemonic, op_str)]"
   ]
  },
  {
   "cell_type": "code",
   "execution_count": 8,
   "metadata": {},
   "outputs": [
    {
     "data": {
      "text/plain": [
       "{'adrp', 'b', 'b.eq', 'b.ne', 'bl', 'blr', 'ldp', 'ldr', 'stp', 'str', 'strb'}"
      ]
     },
     "execution_count": 8,
     "metadata": {},
     "output_type": "execute_result"
    }
   ],
   "source": [
    "set([i.mnemonic for i in bad_instrs])"
   ]
  },
  {
   "cell_type": "code",
   "execution_count": 9,
   "metadata": {
    "tags": []
   },
   "outputs": [],
   "source": [
    "from bisect import bisect_left\n",
    "\n",
    "dwarf = elf.get_dwarf_info()\n",
    "def get_lines_from_cu(cu):\n",
    "    res = []\n",
    "    lineprogram = dwarf.line_program_for_CU(cu)\n",
    "    for entry in lineprogram.get_entries():\n",
    "        state = entry.state\n",
    "        if state is not None:\n",
    "            res += [Line(lineprogram['file_entry'][state.file-1].name, state.line, state.address)]\n",
    "    return res\n",
    "\n",
    "def get_lines_from_dwarf(dwarf):\n",
    "    res = []\n",
    "    for cu in dwarf.iter_CUs():\n",
    "        res += get_lines_from_cu(cu)\n",
    "    return sorted(res, key=lambda l: l.addr)\n",
    "\n",
    "def find_line(lines, addr):\n",
    "    exact_matches = [l for l in filter(lambda line: line.addr == addr, lines)]\n",
    "    if(len(exact_matches) != 0):\n",
    "        return exact_matches\n",
    "    addrs = [l.addr for l in lines]\n",
    "    return [lines[bisect_left(addrs, addr) - 1]]\n",
    "\n",
    "lines = get_lines_from_dwarf(dwarf)"
   ]
  },
  {
   "cell_type": "code",
   "execution_count": 10,
   "metadata": {},
   "outputs": [
    {
     "data": {
      "text/plain": [
       "[('fix_cos@0x3dc8: b.ne #0x3ce4', \"b'internal.h':516(0x3dc8)\"),\n",
       " ('fix_cos@0x4018: b.ne #0x3e64', \"b'cordic.h':34(0x4014)\"),\n",
       " ('fix_sprint@0x1adc: blr x1', \"b'autogen.c':14(0x1adc)\"),\n",
       " ('fix_div@0x1454: b.ne #0x1378', \"b'internal.h':593(0x1454)\"),\n",
       " ('fix_gt@0x1130: bl #0xd60', \"b'ftfp.c':80(0x1130)\"),\n",
       " ('fix_sqrt@0x9950: b #0x99dc', \"b'internal.h':557(0x994c)\"),\n",
       " ('fix_sqrt@0x99d8: b.eq #0x9b7c', \"b'power.c':527(0x99d8)\"),\n",
       " ('fix_sqrt@0x9b74: b.ne #0x9a94', \"b'internal.h':593(0x9b74)\"),\n",
       " ('fix_sqrt@0x9b78: b #0x9954', \"b'internal.h':593(0x9b74)\"),\n",
       " ('fix_le@0x1058: bl #0xd60', \"b'ftfp.c':59(0x1058)\"),\n",
       " ('fix_convert_to_double_internal@0xa0cc: blr x2', \"b'double.c':65(0xa0c4)\"),\n",
       " ('fix_print@0x1a30: blr x3', \"b'ftfp.c':364(0x1a28)\"),\n",
       " ('fix_print@0x1a4c: blr x5', \"b'stdio2.h':107(0x1a34)\"),\n",
       " ('fix_sin@0x3964: b.ne #0x3888', \"b'internal.h':516(0x3964)\"),\n",
       " ('fix_sin@0x3bc4: b.ne #0x3a10', \"b'cordic.h':34(0x3bc0)\"),\n",
       " ('fix_println@0x1a64: bl #0xd50', \"b'ftfp.c':368(0x1a64)\"),\n",
       " ('fix_println@0x1a7c: blr x3', \"b'stdio2.h':107(0x1a68)\"),\n",
       " ('fix_lt@0x10ec: bl #0xd60', \"b'ftfp.c':73(0x10ec)\"),\n",
       " ('fix_convert_from_double_internal@0xa040: blr x4', \"b'double.c':47(0xa03c)\"),\n",
       " ('fix_tan@0x4220: b.ne #0x413c', \"b'internal.h':516(0x4220)\"),\n",
       " ('fix_tan@0x4480: b.ne #0x42c8', \"b'cordic.h':34(0x447c)\"),\n",
       " ('fix_tan@0x46dc: b.ne #0x4600', \"b'internal.h':593(0x46dc)\"),\n",
       " ('fix_pow@0x9c3c: blr x7', \"b'power.c':626(0x9c2c)\"),\n",
       " ('fix_pow@0x9c60: blr x26', \"b'power.c':635(0x9c58)\"),\n",
       " ('fix_pow@0x9c74: blr x11', \"b'power.c':636(0x9c68)\"),\n",
       " ('fix_pow@0x9c94: blr x15', \"b'power.c':637(0x9c8c)\"),\n",
       " ('fix_pow@0x9cb4: blr x18', \"b'power.c':638(0x9cac)\"),\n",
       " ('fix_pow@0x9cc8: blr x26', \"b'power.c':642(0x9cc4)\"),\n",
       " ('fix_pow@0x9ce0: bl #0xd70', \"b'power.c':646(0x9ce0)\"),\n",
       " ('fix_pow@0x9cf0: blr x2', \"b'power.c':647(0x9ce4)\"),\n",
       " ('fix_pow@0x9cf4: bl #0xd90', \"b'power.c':648(0x9cf4)\"),\n",
       " ('fix_pow@0x9ebc: blr x15', \"b'power.c':757(0x9eb4)\"),\n",
       " ('fix_exp@0x4924: blr x11', \"b'power.c':20(0x490c)\"),\n",
       " ('fix_exp@0x4b90: b.ne #0x49d8', \"b'power.c':97(0x4b8c)\"),\n",
       " ('fix_ge@0x10a4: bl #0xd60', \"b'ftfp.c':66(0x10a4)\"),\n",
       " ('fix_sub@0x17f0: bl #0xd80', \"b'ftfp.c':122(0x17f0)\"),\n",
       " ('fix_sub@0x17fc: bl #0xdb0', \"b'ftfp.c':122(0x17f4)\")]"
      ]
     },
     "execution_count": 10,
     "metadata": {},
     "output_type": "execute_result"
    }
   ],
   "source": [
    "#stores outside of the stack\n",
    "[(str(i), str(find_line(lines, i.addr)[0])) for i in bad_instrs if i.mnemonic[0] == 'b']\n"
   ]
  },
  {
   "cell_type": "code",
   "execution_count": 11,
   "metadata": {},
   "outputs": [
    {
     "data": {
      "text/plain": [
       "[]"
      ]
     },
     "execution_count": 11,
     "metadata": {},
     "output_type": "execute_result"
    }
   ],
   "source": [
    "[(str(i), str(find_line(lines, i.addr)[0])) for i in bad_instrs if i.function == \"fix_eq\"]"
   ]
  },
  {
   "cell_type": "code",
   "execution_count": 12,
   "metadata": {},
   "outputs": [
    {
     "data": {
      "text/plain": [
       "[<elftools.elf.sections.Symbol at 0x7fbfbd15bb80>,\n",
       " <elftools.elf.sections.Symbol at 0x7fbfbd15b9d0>,\n",
       " <elftools.elf.sections.Symbol at 0x7fbfbc889fd0>,\n",
       " <elftools.elf.sections.Symbol at 0x7fbfbc81d160>,\n",
       " <elftools.elf.sections.Symbol at 0x7fbfbc81d250>,\n",
       " <elftools.elf.sections.Symbol at 0x7fbfbc81d340>,\n",
       " <elftools.elf.sections.Symbol at 0x7fbfbc81d430>,\n",
       " <elftools.elf.sections.Symbol at 0x7fbfbc81d520>,\n",
       " <elftools.elf.sections.Symbol at 0x7fbfbc81d610>,\n",
       " <elftools.elf.sections.Symbol at 0x7fbfbc81d700>,\n",
       " <elftools.elf.sections.Symbol at 0x7fbfbc81d7f0>,\n",
       " <elftools.elf.sections.Symbol at 0x7fbfbc81d8e0>,\n",
       " <elftools.elf.sections.Symbol at 0x7fbfbc81d9d0>,\n",
       " <elftools.elf.sections.Symbol at 0x7fbfbc81dac0>,\n",
       " <elftools.elf.sections.Symbol at 0x7fbfbc81dbb0>,\n",
       " <elftools.elf.sections.Symbol at 0x7fbfbc81dca0>,\n",
       " <elftools.elf.sections.Symbol at 0x7fbfbc81dd90>,\n",
       " <elftools.elf.sections.Symbol at 0x7fbfbc81de80>,\n",
       " <elftools.elf.sections.Symbol at 0x7fbfbc81df70>,\n",
       " <elftools.elf.sections.Symbol at 0x7fbfbc8220a0>,\n",
       " <elftools.elf.sections.Symbol at 0x7fbfbc822280>,\n",
       " <elftools.elf.sections.Symbol at 0x7fbfbc822190>,\n",
       " <elftools.elf.sections.Symbol at 0x7fbfbc8222e0>,\n",
       " <elftools.elf.sections.Symbol at 0x7fbfbd9cb370>,\n",
       " <elftools.elf.sections.Symbol at 0x7fbfbd9c6af0>,\n",
       " <elftools.elf.sections.Symbol at 0x7fbfbc822550>,\n",
       " <elftools.elf.sections.Symbol at 0x7fbfbc822640>,\n",
       " <elftools.elf.sections.Symbol at 0x7fbfbc822730>,\n",
       " <elftools.elf.sections.Symbol at 0x7fbfbc822820>,\n",
       " <elftools.elf.sections.Symbol at 0x7fbfbc822910>,\n",
       " <elftools.elf.sections.Symbol at 0x7fbfbc822a00>,\n",
       " <elftools.elf.sections.Symbol at 0x7fbfbc822af0>,\n",
       " <elftools.elf.sections.Symbol at 0x7fbfbc822be0>,\n",
       " <elftools.elf.sections.Symbol at 0x7fbfbc822cd0>,\n",
       " <elftools.elf.sections.Symbol at 0x7fbfbc822dc0>,\n",
       " <elftools.elf.sections.Symbol at 0x7fbfbc822eb0>,\n",
       " <elftools.elf.sections.Symbol at 0x7fbfbc822fa0>,\n",
       " <elftools.elf.sections.Symbol at 0x7fbfbc8260d0>,\n",
       " <elftools.elf.sections.Symbol at 0x7fbfbc8261c0>]"
      ]
     },
     "execution_count": 12,
     "metadata": {},
     "output_type": "execute_result"
    }
   ],
   "source": [
    "functions"
   ]
  },
  {
   "cell_type": "code",
   "execution_count": null,
   "metadata": {},
   "outputs": [],
   "source": []
  }
 ],
 "metadata": {
  "kernelspec": {
   "display_name": "Python 3",
   "language": "python",
   "name": "python3"
  },
  "language_info": {
   "codemirror_mode": {
    "name": "ipython",
    "version": 3
   },
   "file_extension": ".py",
   "mimetype": "text/x-python",
   "name": "python",
   "nbconvert_exporter": "python",
   "pygments_lexer": "ipython3",
   "version": "3.8.2"
  }
 },
 "nbformat": 4,
 "nbformat_minor": 4
}
