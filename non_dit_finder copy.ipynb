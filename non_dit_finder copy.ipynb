{
 "cells": [
  {
   "cell_type": "code",
   "execution_count": 6,
   "metadata": {},
   "outputs": [],
   "source": [
    "class Instr(object):\n",
    "    def __init__(self, function, addr, mnemonic, op_str):\n",
    "        self.function = function\n",
    "        self.addr = addr\n",
    "        self.mnemonic = mnemonic\n",
    "        self.op_str = op_str\n",
    "    def __str__(self):\n",
    "        return f'{self.function}@{hex(self.addr)}: {self.mnemonic} {self.op_str}'\n",
    "\n",
    "class Line(object):\n",
    "    def __init__(self, filename, lineno, addr):\n",
    "        self.filename = filename\n",
    "        self.lineno = lineno\n",
    "        self.addr = addr\n",
    "    def __str__(self):\n",
    "        return f'{self.filename}:{self.lineno}({hex(self.addr)})'"
   ]
  },
  {
   "cell_type": "code",
   "execution_count": 8,
   "metadata": {},
   "outputs": [],
   "source": [
    "from elftools.elf.elffile import ELFFile\n",
    "from elftools.elf.sections import SymbolTableSection\n",
    "\n",
    "file = open(\"libftfp.so\", \"rb\")\n",
    "elf = ELFFile(file)\n",
    "sections = list(elf.iter_sections())\n",
    "text_section = [s for s in sections if s.name == \".text\"][0]"
   ]
  },
  {
   "cell_type": "code",
   "execution_count": 10,
   "metadata": {},
   "outputs": [],
   "source": [
    "symbol_tables = [s for s in sections if isinstance(s, SymbolTableSection)]\n",
    "dynsym = [s for s in symbol_tables if s.name == \".dynsym\"][0];"
   ]
  },
  {
   "cell_type": "code",
   "execution_count": 12,
   "metadata": {},
   "outputs": [],
   "source": [
    "functions = [sym for _, sym in enumerate(dynsym.iter_symbols()) if sym['st_info']['type'] == \"STT_FUNC\" and sym.name[:4] == \"fix_\"]"
   ]
  },
  {
   "cell_type": "code",
   "execution_count": 14,
   "metadata": {},
   "outputs": [],
   "source": [
    "def get_function_code(function):\n",
    "    begin_idx = function['st_value'] - text_section['sh_offset']\n",
    "    end_idx = begin_idx + function['st_size']\n",
    "    return text_section.data()[begin_idx:end_idx]"
   ]
  },
  {
   "cell_type": "code",
   "execution_count": 16,
   "metadata": {},
   "outputs": [],
   "source": [
    "general_purpose_regs = [\"W\" + str(i) for i in range(0, 31)] + [\"X\" + str(i) for i in range(0, 31)] + [\"SP\", \"LR\", \"XZR\"]\n",
    "dit_instrs = ['ADC', 'ADCS', 'ADD', 'ADDS', 'AND', 'ANDS', 'ASR', 'ASRV', 'BFC', 'BFI', 'BFM', 'BFXIL', 'BIC', 'BICS', 'CCMN', 'CCMP', 'CFINV', 'CINC', 'CINV', 'CLS', 'CLZ', 'CMN', 'CMP', 'CNEG', 'CSEL', 'CSET', 'CSETM', 'CSINC', 'CSINV', 'CSNEG', 'EON', 'EOR', 'EXTR', 'LSL', 'LSLV', 'LSR', 'LSRV', 'MADD', 'MNEG', 'MOV', 'MOVK', 'MOVN', 'MOVZ', 'MSUB', 'MUL', 'MVN', 'NEG', 'NEGS', 'NGC', 'NGCS', 'NOP', 'ORN', 'ORR', 'RBIT', 'RET', 'REV', 'REV16', 'REV32', 'REV64', 'RMIF', 'ROR', 'RORV', 'SBC', 'SBCS', 'SBFIZ', 'SBFM', 'SBFX', 'SETF8', 'SETF16', 'SMADDL', 'SMNEGL', 'SMSUBL', 'SMULH', 'SMULL', 'SUB', 'SUBS', 'SXTB', 'SXTH', 'SXTW', 'TST', 'UBFIZ', 'UBFM', 'UBFX', 'UMADDL', 'UMNEGL', 'UMSUBL', 'UMULH', 'UMULL', 'UXTB', 'UXTH'] # these are the instructions for the general-purpose register file\n",
    "dit_simd_instrs = [\"ABS\", \"ADD\", \"ADDHN\", \"ADDHN2\", \"ADDP\", \"ADDV\", \"AND\", \"BIC\", \"BIF\", \"BIT\", \"BSL\", \"CLS\", \"CLZ\", \"CMEQ\", \"CMGE\", \"CMGT\", \"CMHI\", \"CMHS\", \"CMLE\", \"CMLT\", \"CMTST\", \"CNT\", \"CRC32B\", \"CRC32H\", \"CRC32W\", \"CRC32X\", \"CRC32CB\", \"CRC32CH\", \"CRC32CW\", \"CRC32CX\", \"DUP\", \"EOR\", \"EXT\", \"FCSEL\", \"INS\", \"MLA\", \"MLS\", \"MOV\", \"MOVI\", \"MUL\", \"MVN\", \"MVNI\", \"NEG\", \"NOT\", \"ORN\", \"ORR\", \"PMUL\", \"PMULL\", \"PMULL2\", \"RADDHN\", \"RADDHN2\", \"RBIT\", \"REV16\", \"REV32\", \"RSHRN\", \"RSHRN2\", \"RSUBHN\", \"RSUBHN2\", \"SABA\", \"SABD\", \"SABAL\", \"SABAL2\", \"SABDL\", \"SABDL2\", \"SADALP\", \"SADDL\", \"SADDL2\", \"SADDLP\", \"SADDLV\", \"SADDW\", \"SADDW2\", \"SHADD\", \"SHL\", \"SHLL\", \"SHLL2\", \"SHRN\", \"SHRN2\", \"SHSUB\", \"SLI\", \"SMAX\", \"SMAXP\", \"SMAXV\", \"SMIN\", \"SMINP\", \"SMINV\", \"SMLAL\", \"SMLAL2\", \"SMLSL\", \"SMLSL2\", \"SMOV\", \"SMULL\", \"SMULL2\", \"SRI\", \"SSHL\", \"SSHLL\", \"SSHLL2\", \"SSHR\", \"SSRA\", \"SSUBL\", \"SSUBL2\", \"SSUBW\", \"SSUBW2\", \"SUB\", \"SUBHN\", \"SUBHN2\", \"SXTL\", \"SXTL2\", \"TBL\", \"TBX\", \"TRN1\", \"TRN2\", \"UABA\", \"UABAL\", \"UABAL2\", \"UABD\", \"UABDL\", \"UABDL2\", \"UADALP\", \"UADDL\", \"UADDL2\", \"UADDLP\", \"UADDLV\", \"UADDW\", \"UADDW2\", \"UHADD\", \"UHSUB\", \"UMAX\", \"UMAXP\", \"UMAXV\", \"UMIN\", \"UMINP\", \"UMINV\", \"UMLAL\", \"UMLAL2\", \"UMLSL\", \"UMOV\", \"UMLSL2\", \"UMULL\", \"UMULL2\", \"USHL\", \"USHLL\", \"USHLL2\", \"USHR\", \"USRA\", \"USUBL\", \"USUBL2\", \"USUBW\", \"USUBW2\", \"UXTL\", \"UXTL2\", \"UZP1\", \"UZP2\", \"XTN\", \"XTN2\", \"ZIP1\", \"ZIP2\"] # these are the instructions for the SIMD & FP register file"
   ]
  },
  {
   "cell_type": "code",
   "execution_count": 18,
   "metadata": {
    "tags": []
   },
   "outputs": [
    {
     "output_type": "stream",
     "name": "stdout",
     "text": [
      "fix_cos 31668\n",
      "fix_ceil64 68\n",
      "fix_floor 60\n",
      "fix_ne 64\n",
      "fix_cmp 188\n",
      "fix_sprint 13432\n",
      "fix_div 4244\n",
      "fix_convert_to_int64 88\n",
      "fix_gt 208\n",
      "fix_convert_from_int64 52\n",
      "fix_sqrt 85088\n",
      "fix_le 208\n",
      "fix_is_neg 8\n",
      "fix_eq 56\n",
      "fix_convert_to_double_internal 336\n",
      "fix_is_inf_neg 16\n",
      "fix_floor64 60\n",
      "fix_print 100\n",
      "fix_sin 31700\n",
      "fix_round_up_int64 68\n",
      "fix_mul 420\n",
      "fix_ln 6068\n",
      "fix_neg 72\n",
      "fix_ceil 92\n",
      "fix_abs 88\n",
      "fix_is_inf_pos 16\n",
      "fix_println 36\n",
      "fix_lt 192\n",
      "fix_convert_from_double_internal 424\n",
      "fix_tan 36044\n",
      "fix_pow 18432\n",
      "fix_eq_nan 52\n",
      "fix_exp 11024\n",
      "fix_ge 204\n",
      "fix_sub 200\n",
      "fix_log10 6100\n",
      "fix_is_nan 16\n",
      "fix_log2 6156\n",
      "fix_add 132\n"
     ]
    }
   ],
   "source": [
    "from capstone import *\n",
    "\n",
    "bad_instrs = []\n",
    "all_instrs = []\n",
    "md = Cs(CS_ARCH_ARM64, CS_MODE_ARM)\n",
    "\n",
    "for function in functions:\n",
    "    code = get_function_code(function)\n",
    "    print(function.name, len(code))\n",
    "    \n",
    "    instrs = [i for i in md.disasm_lite(code, function['st_value'])]\n",
    "    \n",
    "    if(len(instrs) != len(code) / 4): \n",
    "        print(\"invalid disassembly for \" + function.name)\n",
    "        continue\n",
    "    \n",
    "    for (addr, size, mnemonic, op_str) in instrs:\n",
    "        if(op_str == '' or op_str.split(\",\")[0].upper() in general_purpose_regs):\n",
    "            if(mnemonic.upper() not in dit_instrs):\n",
    "                bad_instrs += [Instr(function.name, addr, mnemonic, op_str)]\n",
    "        elif(mnemonic.upper() not in dit_simd_instrs):\n",
    "            bad_instrs += [Instr(function.name, addr, mnemonic, op_str)]\n",
    "        all_instrs += [Instr(function.name, addr, mnemonic, op_str)]"
   ]
  },
  {
   "cell_type": "code",
   "execution_count": 20,
   "metadata": {},
   "outputs": [
    {
     "output_type": "execute_result",
     "data": {
      "text/plain": [
       "{'adrp', 'bl', 'cbnz', 'ldp', 'ldr', 'ldrb', 'stp', 'str', 'strb'}"
      ]
     },
     "metadata": {},
     "execution_count": 20
    }
   ],
   "source": [
    "set([i.mnemonic for i in bad_instrs])"
   ]
  },
  {
   "cell_type": "code",
   "execution_count": 22,
   "metadata": {
    "tags": []
   },
   "outputs": [],
   "source": [
    "from bisect import bisect_left\n",
    "\n",
    "dwarf = elf.get_dwarf_info()\n",
    "def get_lines_from_cu(cu):\n",
    "    res = []\n",
    "    lineprogram = dwarf.line_program_for_CU(cu)\n",
    "    for entry in lineprogram.get_entries():\n",
    "        state = entry.state\n",
    "        if state is not None:\n",
    "            res += [Line(lineprogram['file_entry'][state.file-1].name, state.line, state.address)]\n",
    "    return res\n",
    "\n",
    "def get_lines_from_dwarf(dwarf):\n",
    "    res = []\n",
    "    for cu in dwarf.iter_CUs():\n",
    "        res += get_lines_from_cu(cu)\n",
    "    return sorted(res, key=lambda l: l.addr)\n",
    "\n",
    "def find_line(lines, addr):\n",
    "    exact_matches = [l for l in filter(lambda line: line.addr == addr, lines)]\n",
    "    if(len(exact_matches) != 0):\n",
    "        return exact_matches\n",
    "    addrs = [l.addr for l in lines]\n",
    "    return [lines[bisect_left(addrs, addr) - 1]]\n",
    "\n",
    "lines = get_lines_from_dwarf(dwarf)"
   ]
  },
  {
   "cell_type": "code",
   "execution_count": 225,
   "metadata": {},
   "outputs": [],
   "source": [
    "all_mne = [m for m in set([i.mnemonic for i in all_instrs]) if len([i for i in all_instrs if i.mnemonic == m]) > 5]"
   ]
  },
  {
   "cell_type": "code",
   "execution_count": 226,
   "metadata": {},
   "outputs": [],
   "source": [
    "from collections import defaultdict\n",
    "def mne_counts(func_name):\n",
    "    res = defaultdict(lambda: 0)\n",
    "    for i in all_instrs:\n",
    "        if i.function == func_name:\n",
    "            res[i.mnemonic]+=1\n",
    "    return res\n"
   ]
  },
  {
   "cell_type": "code",
   "execution_count": 227,
   "metadata": {},
   "outputs": [],
   "source": [
    "func_ccnt = [(e[0].strip(), e[1]) for e in [[\"fix_neg        \", 0.998375],\n",
    "[\"fix_abs        \", 0.998625],\n",
    "[\"fix_is_neg     \", 0.998650],\n",
    "[\"fix_is_nan     \", 0.998600],\n",
    "[\"fix_is_inf_pos \", 0.998650],\n",
    "[\"fix_is_inf_neg \", 0.998475],\n",
    "[\"fix_eq         \", 0.998750],\n",
    "[\"fix_eq_nan     \", 0.998475],\n",
    "[\"fix_cmp        \", 0.998200],\n",
    "\n",
    "[\"fix_add        \", 0.998500],\n",
    "[\"fix_sub        \", 0.998550],\n",
    "[\"fix_mul        \", 0.998100],\n",
    "[\"fix_div        \", 0.991575],\n",
    "\n",
    "[\"fix_floor      \", 0.998625],\n",
    "[\"fix_ceil       \", 0.998700],\n",
    "\n",
    "[\"fix_exp        \", 0.987700],\n",
    "[\"fix_ln         \", 0.986825],\n",
    "[\"fix_log2       \", 0.993500],\n",
    "[\"fix_log10      \", 0.990525],\n",
    "\n",
    "[\"fix_pow        \", 0.965925],\n",
    "[\"fix_sqrt       \", 0.056900],\n",
    "\n",
    "[\"fix_sin        \", 0.132450],\n",
    "[\"fix_cos        \", 0.137075],\n",
    "[\"fix_tan        \", 0.018025],\n",
    "\n",
    "[\"fix_sprint      \", 0.972675]]]"
   ]
  },
  {
   "cell_type": "code",
   "execution_count": 228,
   "metadata": {},
   "outputs": [
    {
     "output_type": "execute_result",
     "data": {
      "text/plain": [
       "[0.0023462863158012584,\n",
       " 0.001985070730316673,\n",
       " 0.001948954145445602,\n",
       " 0.0020211882193567395,\n",
       " 0.001948954145445602,\n",
       " 0.002201789228679557,\n",
       " 0.0018044968467478767,\n",
       " 0.002201789228679557,\n",
       " 0.0025991910479572374,\n",
       " 0.0021656672181143925,\n",
       " 0.0020934259101255963,\n",
       " 0.0027437279454271078,\n",
       " 0.012206196829701001,\n",
       " 0.001985070730316673,\n",
       " 0.0018767236880300182,\n",
       " 0.017855184894581086,\n",
       " 0.01913382987847412,\n",
       " 0.009408127412416836,\n",
       " 0.013734706929729756,\n",
       " 0.050016920659313076,\n",
       " 4.135427537242868,\n",
       " 2.916480251179827,\n",
       " 2.8669626212526502,\n",
       " 5.793856930308627,\n",
       " 0.03997025721123338]"
      ]
     },
     "metadata": {},
     "execution_count": 228
    }
   ],
   "source": [
    "import math\n",
    "Y = [-math.log2(e[1]) for e in func_ccnt]\n",
    "Y"
   ]
  },
  {
   "cell_type": "code",
   "execution_count": 229,
   "metadata": {},
   "outputs": [],
   "source": [
    "def get_x(func_name):\n",
    "    mne = mne_counts(func_name)\n",
    "    return [mne[m] for m in all_mne] + [sum([mne[m] for m in all_mne])]\n",
    "X = [get_x(e[0]) for e in func_ccnt]"
   ]
  },
  {
   "cell_type": "code",
   "execution_count": 230,
   "metadata": {},
   "outputs": [],
   "source": [
    "from sklearn.linear_model import LinearRegression\n",
    "reg = LinearRegression(positive=True).fit(X, Y)"
   ]
  },
  {
   "cell_type": "code",
   "execution_count": 231,
   "metadata": {},
   "outputs": [
    {
     "output_type": "execute_result",
     "data": {
      "text/plain": [
       "0.9177114563279911"
      ]
     },
     "metadata": {},
     "execution_count": 231
    }
   ],
   "source": [
    "reg.score(X, Y)"
   ]
  },
  {
   "cell_type": "code",
   "execution_count": 232,
   "metadata": {},
   "outputs": [
    {
     "output_type": "execute_result",
     "data": {
      "text/plain": [
       "[('lsl', 0.0),\n",
       " ('orr', 0.0),\n",
       " ('cinc', 0.0),\n",
       " ('ands', 0.0),\n",
       " ('csetm', 0.0),\n",
       " ('bfi', 0.0),\n",
       " ('and', 0.0),\n",
       " ('csneg', 0.0),\n",
       " ('add', 0.0),\n",
       " ('sbfx', 0.0),\n",
       " ('ret', 0.0),\n",
       " ('ubfiz', 0.0),\n",
       " ('neg', 0.0),\n",
       " ('asr', 0.04956155891970594),\n",
       " ('sub', 0.0),\n",
       " ('tst', 0.0),\n",
       " ('bics', 0.0),\n",
       " ('ldp', 0.0),\n",
       " ('mov', 0.003294337952791778),\n",
       " ('mul', 0.0),\n",
       " ('stp', 0.0),\n",
       " ('csinc', 0.0),\n",
       " ('csel', 0.0),\n",
       " ('movn', 0.0),\n",
       " ('ldr', 0.0),\n",
       " ('movz', 0.0),\n",
       " ('strb', 0.0),\n",
       " ('bfxil', 0.0),\n",
       " ('str', 0.0),\n",
       " ('movk', 0.0),\n",
       " ('cset', 0.0),\n",
       " ('ccmp', 0.0),\n",
       " ('cmp', 0.0),\n",
       " ('madd', 0.0012908555160057336),\n",
       " ('adds', 0.0),\n",
       " ('lsr', 0.0),\n",
       " ('ubfx', 0.0),\n",
       " ('eor', 0.0043347911887794315),\n",
       " ('umull', 0.0),\n",
       " ('mvn', 0.0),\n",
       " ('length', 0.0)]"
      ]
     },
     "metadata": {},
     "execution_count": 232
    }
   ],
   "source": [
    "feats = all_mne + [\"length\"]\n",
    "weights = [(feats[i], reg.coef_[i]) for i in range(len(reg.coef_))]\n",
    "weights"
   ]
  },
  {
   "cell_type": "code",
   "execution_count": 233,
   "metadata": {},
   "outputs": [
    {
     "output_type": "display_data",
     "data": {
      "text/plain": "<Figure size 1440x432 with 1 Axes>",
      "image/svg+xml": "<?xml version=\"1.0\" encoding=\"utf-8\" standalone=\"no\"?>\n<!DOCTYPE svg PUBLIC \"-//W3C//DTD SVG 1.1//EN\"\n  \"http://www.w3.org/Graphics/SVG/1.1/DTD/svg11.dtd\">\n<!-- Created with matplotlib (https://matplotlib.org/) -->\n<svg height=\"478.19625pt\" version=\"1.1\" viewBox=\"0 0 1483.665625 478.19625\" width=\"1483.665625pt\" xmlns=\"http://www.w3.org/2000/svg\" xmlns:xlink=\"http://www.w3.org/1999/xlink\">\n <defs>\n  <style type=\"text/css\">\n*{stroke-linecap:butt;stroke-linejoin:round;}\n  </style>\n </defs>\n <g id=\"figure_1\">\n  <g id=\"patch_1\">\n   <path d=\"M 0 478.19625 \nL 1483.665625 478.19625 \nL 1483.665625 -0 \nL 0 -0 \nz\n\" style=\"fill:none;\"/>\n  </g>\n  <g id=\"axes_1\">\n   <g id=\"patch_2\">\n    <path d=\"M 36.465625 454.318125 \nL 1476.465625 454.318125 \nL 1476.465625 22.318125 \nL 36.465625 22.318125 \nz\n\" style=\"fill:#ffffff;\"/>\n   </g>\n   <g id=\"patch_3\">\n    <path clip-path=\"url(#p22f4f8e0be)\" d=\"M 101.92017 454.318125 \nL 127.58862 454.318125 \nL 127.58862 454.318125 \nL 101.92017 454.318125 \nz\n\" style=\"fill:#1f77b4;\"/>\n   </g>\n   <g id=\"patch_4\">\n    <path clip-path=\"url(#p22f4f8e0be)\" d=\"M 134.005732 454.318125 \nL 159.674181 454.318125 \nL 159.674181 454.318125 \nL 134.005732 454.318125 \nz\n\" style=\"fill:#1f77b4;\"/>\n   </g>\n   <g id=\"patch_5\">\n    <path clip-path=\"url(#p22f4f8e0be)\" d=\"M 166.091293 454.318125 \nL 191.759743 454.318125 \nL 191.759743 454.318125 \nL 166.091293 454.318125 \nz\n\" style=\"fill:#1f77b4;\"/>\n   </g>\n   <g id=\"patch_6\">\n    <path clip-path=\"url(#p22f4f8e0be)\" d=\"M 198.176855 454.318125 \nL 223.845304 454.318125 \nL 223.845304 454.318125 \nL 198.176855 454.318125 \nz\n\" style=\"fill:#1f77b4;\"/>\n   </g>\n   <g id=\"patch_7\">\n    <path clip-path=\"url(#p22f4f8e0be)\" d=\"M 230.262416 454.318125 \nL 255.930866 454.318125 \nL 255.930866 454.318125 \nL 230.262416 454.318125 \nz\n\" style=\"fill:#1f77b4;\"/>\n   </g>\n   <g id=\"patch_8\">\n    <path clip-path=\"url(#p22f4f8e0be)\" d=\"M 262.347978 454.318125 \nL 288.016427 454.318125 \nL 288.016427 454.318125 \nL 262.347978 454.318125 \nz\n\" style=\"fill:#1f77b4;\"/>\n   </g>\n   <g id=\"patch_9\">\n    <path clip-path=\"url(#p22f4f8e0be)\" d=\"M 294.433539 454.318125 \nL 320.101989 454.318125 \nL 320.101989 454.318125 \nL 294.433539 454.318125 \nz\n\" style=\"fill:#1f77b4;\"/>\n   </g>\n   <g id=\"patch_10\">\n    <path clip-path=\"url(#p22f4f8e0be)\" d=\"M 326.519101 454.318125 \nL 352.18755 454.318125 \nL 352.18755 454.318125 \nL 326.519101 454.318125 \nz\n\" style=\"fill:#1f77b4;\"/>\n   </g>\n   <g id=\"patch_11\">\n    <path clip-path=\"url(#p22f4f8e0be)\" d=\"M 358.604662 454.318125 \nL 384.273112 454.318125 \nL 384.273112 454.318125 \nL 358.604662 454.318125 \nz\n\" style=\"fill:#1f77b4;\"/>\n   </g>\n   <g id=\"patch_12\">\n    <path clip-path=\"url(#p22f4f8e0be)\" d=\"M 390.690224 454.318125 \nL 416.358673 454.318125 \nL 416.358673 454.318125 \nL 390.690224 454.318125 \nz\n\" style=\"fill:#1f77b4;\"/>\n   </g>\n   <g id=\"patch_13\">\n    <path clip-path=\"url(#p22f4f8e0be)\" d=\"M 422.775785 454.318125 \nL 448.444235 454.318125 \nL 448.444235 454.318125 \nL 422.775785 454.318125 \nz\n\" style=\"fill:#1f77b4;\"/>\n   </g>\n   <g id=\"patch_14\">\n    <path clip-path=\"url(#p22f4f8e0be)\" d=\"M 454.861347 454.318125 \nL 480.529796 454.318125 \nL 480.529796 454.318125 \nL 454.861347 454.318125 \nz\n\" style=\"fill:#1f77b4;\"/>\n   </g>\n   <g id=\"patch_15\">\n    <path clip-path=\"url(#p22f4f8e0be)\" d=\"M 486.946908 454.318125 \nL 512.615358 454.318125 \nL 512.615358 454.318125 \nL 486.946908 454.318125 \nz\n\" style=\"fill:#1f77b4;\"/>\n   </g>\n   <g id=\"patch_16\">\n    <path clip-path=\"url(#p22f4f8e0be)\" d=\"M 519.03247 454.318125 \nL 544.700919 454.318125 \nL 544.700919 42.889554 \nL 519.03247 42.889554 \nz\n\" style=\"fill:#1f77b4;\"/>\n   </g>\n   <g id=\"patch_17\">\n    <path clip-path=\"url(#p22f4f8e0be)\" d=\"M 551.118031 454.318125 \nL 576.786481 454.318125 \nL 576.786481 454.318125 \nL 551.118031 454.318125 \nz\n\" style=\"fill:#1f77b4;\"/>\n   </g>\n   <g id=\"patch_18\">\n    <path clip-path=\"url(#p22f4f8e0be)\" d=\"M 583.203593 454.318125 \nL 608.872042 454.318125 \nL 608.872042 454.318125 \nL 583.203593 454.318125 \nz\n\" style=\"fill:#1f77b4;\"/>\n   </g>\n   <g id=\"patch_19\">\n    <path clip-path=\"url(#p22f4f8e0be)\" d=\"M 615.289154 454.318125 \nL 640.957604 454.318125 \nL 640.957604 454.318125 \nL 615.289154 454.318125 \nz\n\" style=\"fill:#1f77b4;\"/>\n   </g>\n   <g id=\"patch_20\">\n    <path clip-path=\"url(#p22f4f8e0be)\" d=\"M 647.374716 454.318125 \nL 673.043165 454.318125 \nL 673.043165 454.318125 \nL 647.374716 454.318125 \nz\n\" style=\"fill:#1f77b4;\"/>\n   </g>\n   <g id=\"patch_21\">\n    <path clip-path=\"url(#p22f4f8e0be)\" d=\"M 679.460277 454.318125 \nL 705.128727 454.318125 \nL 705.128727 426.970624 \nL 679.460277 426.970624 \nz\n\" style=\"fill:#1f77b4;\"/>\n   </g>\n   <g id=\"patch_22\">\n    <path clip-path=\"url(#p22f4f8e0be)\" d=\"M 711.545839 454.318125 \nL 737.214288 454.318125 \nL 737.214288 454.318125 \nL 711.545839 454.318125 \nz\n\" style=\"fill:#1f77b4;\"/>\n   </g>\n   <g id=\"patch_23\">\n    <path clip-path=\"url(#p22f4f8e0be)\" d=\"M 743.6314 454.318125 \nL 769.29985 454.318125 \nL 769.29985 454.318125 \nL 743.6314 454.318125 \nz\n\" style=\"fill:#1f77b4;\"/>\n   </g>\n   <g id=\"patch_24\">\n    <path clip-path=\"url(#p22f4f8e0be)\" d=\"M 775.716962 454.318125 \nL 801.385411 454.318125 \nL 801.385411 454.318125 \nL 775.716962 454.318125 \nz\n\" style=\"fill:#1f77b4;\"/>\n   </g>\n   <g id=\"patch_25\">\n    <path clip-path=\"url(#p22f4f8e0be)\" d=\"M 807.802523 454.318125 \nL 833.470973 454.318125 \nL 833.470973 454.318125 \nL 807.802523 454.318125 \nz\n\" style=\"fill:#1f77b4;\"/>\n   </g>\n   <g id=\"patch_26\">\n    <path clip-path=\"url(#p22f4f8e0be)\" d=\"M 839.888085 454.318125 \nL 865.556534 454.318125 \nL 865.556534 454.318125 \nL 839.888085 454.318125 \nz\n\" style=\"fill:#1f77b4;\"/>\n   </g>\n   <g id=\"patch_27\">\n    <path clip-path=\"url(#p22f4f8e0be)\" d=\"M 871.973646 454.318125 \nL 897.642096 454.318125 \nL 897.642096 454.318125 \nL 871.973646 454.318125 \nz\n\" style=\"fill:#1f77b4;\"/>\n   </g>\n   <g id=\"patch_28\">\n    <path clip-path=\"url(#p22f4f8e0be)\" d=\"M 904.059208 454.318125 \nL 929.727657 454.318125 \nL 929.727657 454.318125 \nL 904.059208 454.318125 \nz\n\" style=\"fill:#1f77b4;\"/>\n   </g>\n   <g id=\"patch_29\">\n    <path clip-path=\"url(#p22f4f8e0be)\" d=\"M 936.144769 454.318125 \nL 961.813219 454.318125 \nL 961.813219 454.318125 \nL 936.144769 454.318125 \nz\n\" style=\"fill:#1f77b4;\"/>\n   </g>\n   <g id=\"patch_30\">\n    <path clip-path=\"url(#p22f4f8e0be)\" d=\"M 968.230331 454.318125 \nL 993.89878 454.318125 \nL 993.89878 454.318125 \nL 968.230331 454.318125 \nz\n\" style=\"fill:#1f77b4;\"/>\n   </g>\n   <g id=\"patch_31\">\n    <path clip-path=\"url(#p22f4f8e0be)\" d=\"M 1000.315892 454.318125 \nL 1025.984342 454.318125 \nL 1025.984342 454.318125 \nL 1000.315892 454.318125 \nz\n\" style=\"fill:#1f77b4;\"/>\n   </g>\n   <g id=\"patch_32\">\n    <path clip-path=\"url(#p22f4f8e0be)\" d=\"M 1032.401454 454.318125 \nL 1058.069903 454.318125 \nL 1058.069903 454.318125 \nL 1032.401454 454.318125 \nz\n\" style=\"fill:#1f77b4;\"/>\n   </g>\n   <g id=\"patch_33\">\n    <path clip-path=\"url(#p22f4f8e0be)\" d=\"M 1064.487015 454.318125 \nL 1090.155465 454.318125 \nL 1090.155465 454.318125 \nL 1064.487015 454.318125 \nz\n\" style=\"fill:#1f77b4;\"/>\n   </g>\n   <g id=\"patch_34\">\n    <path clip-path=\"url(#p22f4f8e0be)\" d=\"M 1096.572577 454.318125 \nL 1122.241026 454.318125 \nL 1122.241026 454.318125 \nL 1096.572577 454.318125 \nz\n\" style=\"fill:#1f77b4;\"/>\n   </g>\n   <g id=\"patch_35\">\n    <path clip-path=\"url(#p22f4f8e0be)\" d=\"M 1128.658138 454.318125 \nL 1154.326588 454.318125 \nL 1154.326588 454.318125 \nL 1128.658138 454.318125 \nz\n\" style=\"fill:#1f77b4;\"/>\n   </g>\n   <g id=\"patch_36\">\n    <path clip-path=\"url(#p22f4f8e0be)\" d=\"M 1160.7437 454.318125 \nL 1186.412149 454.318125 \nL 1186.412149 443.602263 \nL 1160.7437 443.602263 \nz\n\" style=\"fill:#1f77b4;\"/>\n   </g>\n   <g id=\"patch_37\">\n    <path clip-path=\"url(#p22f4f8e0be)\" d=\"M 1192.829261 454.318125 \nL 1218.497711 454.318125 \nL 1218.497711 454.318125 \nL 1192.829261 454.318125 \nz\n\" style=\"fill:#1f77b4;\"/>\n   </g>\n   <g id=\"patch_38\">\n    <path clip-path=\"url(#p22f4f8e0be)\" d=\"M 1224.914823 454.318125 \nL 1250.583272 454.318125 \nL 1250.583272 454.318125 \nL 1224.914823 454.318125 \nz\n\" style=\"fill:#1f77b4;\"/>\n   </g>\n   <g id=\"patch_39\">\n    <path clip-path=\"url(#p22f4f8e0be)\" d=\"M 1257.000384 454.318125 \nL 1282.668834 454.318125 \nL 1282.668834 454.318125 \nL 1257.000384 454.318125 \nz\n\" style=\"fill:#1f77b4;\"/>\n   </g>\n   <g id=\"patch_40\">\n    <path clip-path=\"url(#p22f4f8e0be)\" d=\"M 1289.085946 454.318125 \nL 1314.754395 454.318125 \nL 1314.754395 418.333443 \nL 1289.085946 418.333443 \nz\n\" style=\"fill:#1f77b4;\"/>\n   </g>\n   <g id=\"patch_41\">\n    <path clip-path=\"url(#p22f4f8e0be)\" d=\"M 1321.171507 454.318125 \nL 1346.839957 454.318125 \nL 1346.839957 454.318125 \nL 1321.171507 454.318125 \nz\n\" style=\"fill:#1f77b4;\"/>\n   </g>\n   <g id=\"patch_42\">\n    <path clip-path=\"url(#p22f4f8e0be)\" d=\"M 1353.257069 454.318125 \nL 1378.925518 454.318125 \nL 1378.925518 454.318125 \nL 1353.257069 454.318125 \nz\n\" style=\"fill:#1f77b4;\"/>\n   </g>\n   <g id=\"patch_43\">\n    <path clip-path=\"url(#p22f4f8e0be)\" d=\"M 1385.34263 454.318125 \nL 1411.01108 454.318125 \nL 1411.01108 454.318125 \nL 1385.34263 454.318125 \nz\n\" style=\"fill:#1f77b4;\"/>\n   </g>\n   <g id=\"matplotlib.axis_1\">\n    <g id=\"xtick_1\">\n     <g id=\"line2d_1\">\n      <defs>\n       <path d=\"M 0 0 \nL 0 3.5 \n\" id=\"m8831b36997\" style=\"stroke:#000000;stroke-width:0.8;\"/>\n      </defs>\n      <g>\n       <use style=\"stroke:#000000;stroke-width:0.8;\" x=\"114.754395\" xlink:href=\"#m8831b36997\" y=\"454.318125\"/>\n      </g>\n     </g>\n     <g id=\"text_1\">\n      <!-- lsl -->\n      <defs>\n       <path d=\"M 9.421875 75.984375 \nL 18.40625 75.984375 \nL 18.40625 0 \nL 9.421875 0 \nz\n\" id=\"DejaVuSans-108\"/>\n       <path d=\"M 44.28125 53.078125 \nL 44.28125 44.578125 \nQ 40.484375 46.53125 36.375 47.5 \nQ 32.28125 48.484375 27.875 48.484375 \nQ 21.1875 48.484375 17.84375 46.4375 \nQ 14.5 44.390625 14.5 40.28125 \nQ 14.5 37.15625 16.890625 35.375 \nQ 19.28125 33.59375 26.515625 31.984375 \nL 29.59375 31.296875 \nQ 39.15625 29.25 43.1875 25.515625 \nQ 47.21875 21.78125 47.21875 15.09375 \nQ 47.21875 7.46875 41.1875 3.015625 \nQ 35.15625 -1.421875 24.609375 -1.421875 \nQ 20.21875 -1.421875 15.453125 -0.5625 \nQ 10.6875 0.296875 5.421875 2 \nL 5.421875 11.28125 \nQ 10.40625 8.6875 15.234375 7.390625 \nQ 20.0625 6.109375 24.8125 6.109375 \nQ 31.15625 6.109375 34.5625 8.28125 \nQ 37.984375 10.453125 37.984375 14.40625 \nQ 37.984375 18.0625 35.515625 20.015625 \nQ 33.0625 21.96875 24.703125 23.78125 \nL 21.578125 24.515625 \nQ 13.234375 26.265625 9.515625 29.90625 \nQ 5.8125 33.546875 5.8125 39.890625 \nQ 5.8125 47.609375 11.28125 51.796875 \nQ 16.75 56 26.8125 56 \nQ 31.78125 56 36.171875 55.265625 \nQ 40.578125 54.546875 44.28125 53.078125 \nz\n\" id=\"DejaVuSans-115\"/>\n      </defs>\n      <g transform=\"translate(109.371583 468.916562)scale(0.1 -0.1)\">\n       <use xlink:href=\"#DejaVuSans-108\"/>\n       <use x=\"27.783203\" xlink:href=\"#DejaVuSans-115\"/>\n       <use x=\"79.882812\" xlink:href=\"#DejaVuSans-108\"/>\n      </g>\n     </g>\n    </g>\n    <g id=\"xtick_2\">\n     <g id=\"line2d_2\">\n      <g>\n       <use style=\"stroke:#000000;stroke-width:0.8;\" x=\"146.839957\" xlink:href=\"#m8831b36997\" y=\"454.318125\"/>\n      </g>\n     </g>\n     <g id=\"text_2\">\n      <!-- orr -->\n      <defs>\n       <path d=\"M 30.609375 48.390625 \nQ 23.390625 48.390625 19.1875 42.75 \nQ 14.984375 37.109375 14.984375 27.296875 \nQ 14.984375 17.484375 19.15625 11.84375 \nQ 23.34375 6.203125 30.609375 6.203125 \nQ 37.796875 6.203125 41.984375 11.859375 \nQ 46.1875 17.53125 46.1875 27.296875 \nQ 46.1875 37.015625 41.984375 42.703125 \nQ 37.796875 48.390625 30.609375 48.390625 \nz\nM 30.609375 56 \nQ 42.328125 56 49.015625 48.375 \nQ 55.71875 40.765625 55.71875 27.296875 \nQ 55.71875 13.875 49.015625 6.21875 \nQ 42.328125 -1.421875 30.609375 -1.421875 \nQ 18.84375 -1.421875 12.171875 6.21875 \nQ 5.515625 13.875 5.515625 27.296875 \nQ 5.515625 40.765625 12.171875 48.375 \nQ 18.84375 56 30.609375 56 \nz\n\" id=\"DejaVuSans-111\"/>\n       <path d=\"M 41.109375 46.296875 \nQ 39.59375 47.171875 37.8125 47.578125 \nQ 36.03125 48 33.890625 48 \nQ 26.265625 48 22.1875 43.046875 \nQ 18.109375 38.09375 18.109375 28.8125 \nL 18.109375 0 \nL 9.078125 0 \nL 9.078125 54.6875 \nL 18.109375 54.6875 \nL 18.109375 46.1875 \nQ 20.953125 51.171875 25.484375 53.578125 \nQ 30.03125 56 36.53125 56 \nQ 37.453125 56 38.578125 55.875 \nQ 39.703125 55.765625 41.0625 55.515625 \nz\n\" id=\"DejaVuSans-114\"/>\n      </defs>\n      <g transform=\"translate(139.670425 468.916562)scale(0.1 -0.1)\">\n       <use xlink:href=\"#DejaVuSans-111\"/>\n       <use x=\"61.181641\" xlink:href=\"#DejaVuSans-114\"/>\n       <use x=\"102.279297\" xlink:href=\"#DejaVuSans-114\"/>\n      </g>\n     </g>\n    </g>\n    <g id=\"xtick_3\">\n     <g id=\"line2d_3\">\n      <g>\n       <use style=\"stroke:#000000;stroke-width:0.8;\" x=\"178.925518\" xlink:href=\"#m8831b36997\" y=\"454.318125\"/>\n      </g>\n     </g>\n     <g id=\"text_3\">\n      <!-- cinc -->\n      <defs>\n       <path d=\"M 48.78125 52.59375 \nL 48.78125 44.1875 \nQ 44.96875 46.296875 41.140625 47.34375 \nQ 37.3125 48.390625 33.40625 48.390625 \nQ 24.65625 48.390625 19.8125 42.84375 \nQ 14.984375 37.3125 14.984375 27.296875 \nQ 14.984375 17.28125 19.8125 11.734375 \nQ 24.65625 6.203125 33.40625 6.203125 \nQ 37.3125 6.203125 41.140625 7.25 \nQ 44.96875 8.296875 48.78125 10.40625 \nL 48.78125 2.09375 \nQ 45.015625 0.34375 40.984375 -0.53125 \nQ 36.96875 -1.421875 32.421875 -1.421875 \nQ 20.0625 -1.421875 12.78125 6.34375 \nQ 5.515625 14.109375 5.515625 27.296875 \nQ 5.515625 40.671875 12.859375 48.328125 \nQ 20.21875 56 33.015625 56 \nQ 37.15625 56 41.109375 55.140625 \nQ 45.0625 54.296875 48.78125 52.59375 \nz\n\" id=\"DejaVuSans-99\"/>\n       <path d=\"M 9.421875 54.6875 \nL 18.40625 54.6875 \nL 18.40625 0 \nL 9.421875 0 \nz\nM 9.421875 75.984375 \nL 18.40625 75.984375 \nL 18.40625 64.59375 \nL 9.421875 64.59375 \nz\n\" id=\"DejaVuSans-105\"/>\n       <path d=\"M 54.890625 33.015625 \nL 54.890625 0 \nL 45.90625 0 \nL 45.90625 32.71875 \nQ 45.90625 40.484375 42.875 44.328125 \nQ 39.84375 48.1875 33.796875 48.1875 \nQ 26.515625 48.1875 22.3125 43.546875 \nQ 18.109375 38.921875 18.109375 30.90625 \nL 18.109375 0 \nL 9.078125 0 \nL 9.078125 54.6875 \nL 18.109375 54.6875 \nL 18.109375 46.1875 \nQ 21.34375 51.125 25.703125 53.5625 \nQ 30.078125 56 35.796875 56 \nQ 45.21875 56 50.046875 50.171875 \nQ 54.890625 44.34375 54.890625 33.015625 \nz\n\" id=\"DejaVuSans-110\"/>\n      </defs>\n      <g transform=\"translate(168.869268 468.916562)scale(0.1 -0.1)\">\n       <use xlink:href=\"#DejaVuSans-99\"/>\n       <use x=\"54.980469\" xlink:href=\"#DejaVuSans-105\"/>\n       <use x=\"82.763672\" xlink:href=\"#DejaVuSans-110\"/>\n       <use x=\"146.142578\" xlink:href=\"#DejaVuSans-99\"/>\n      </g>\n     </g>\n    </g>\n    <g id=\"xtick_4\">\n     <g id=\"line2d_4\">\n      <g>\n       <use style=\"stroke:#000000;stroke-width:0.8;\" x=\"211.01108\" xlink:href=\"#m8831b36997\" y=\"454.318125\"/>\n      </g>\n     </g>\n     <g id=\"text_4\">\n      <!-- ands -->\n      <defs>\n       <path d=\"M 34.28125 27.484375 \nQ 23.390625 27.484375 19.1875 25 \nQ 14.984375 22.515625 14.984375 16.5 \nQ 14.984375 11.71875 18.140625 8.90625 \nQ 21.296875 6.109375 26.703125 6.109375 \nQ 34.1875 6.109375 38.703125 11.40625 \nQ 43.21875 16.703125 43.21875 25.484375 \nL 43.21875 27.484375 \nz\nM 52.203125 31.203125 \nL 52.203125 0 \nL 43.21875 0 \nL 43.21875 8.296875 \nQ 40.140625 3.328125 35.546875 0.953125 \nQ 30.953125 -1.421875 24.3125 -1.421875 \nQ 15.921875 -1.421875 10.953125 3.296875 \nQ 6 8.015625 6 15.921875 \nQ 6 25.140625 12.171875 29.828125 \nQ 18.359375 34.515625 30.609375 34.515625 \nL 43.21875 34.515625 \nL 43.21875 35.40625 \nQ 43.21875 41.609375 39.140625 45 \nQ 35.0625 48.390625 27.6875 48.390625 \nQ 23 48.390625 18.546875 47.265625 \nQ 14.109375 46.140625 10.015625 43.890625 \nL 10.015625 52.203125 \nQ 14.9375 54.109375 19.578125 55.046875 \nQ 24.21875 56 28.609375 56 \nQ 40.484375 56 46.34375 49.84375 \nQ 52.203125 43.703125 52.203125 31.203125 \nz\n\" id=\"DejaVuSans-97\"/>\n       <path d=\"M 45.40625 46.390625 \nL 45.40625 75.984375 \nL 54.390625 75.984375 \nL 54.390625 0 \nL 45.40625 0 \nL 45.40625 8.203125 \nQ 42.578125 3.328125 38.25 0.953125 \nQ 33.9375 -1.421875 27.875 -1.421875 \nQ 17.96875 -1.421875 11.734375 6.484375 \nQ 5.515625 14.40625 5.515625 27.296875 \nQ 5.515625 40.1875 11.734375 48.09375 \nQ 17.96875 56 27.875 56 \nQ 33.9375 56 38.25 53.625 \nQ 42.578125 51.265625 45.40625 46.390625 \nz\nM 14.796875 27.296875 \nQ 14.796875 17.390625 18.875 11.75 \nQ 22.953125 6.109375 30.078125 6.109375 \nQ 37.203125 6.109375 41.296875 11.75 \nQ 45.40625 17.390625 45.40625 27.296875 \nQ 45.40625 37.203125 41.296875 42.84375 \nQ 37.203125 48.484375 30.078125 48.484375 \nQ 22.953125 48.484375 18.875 42.84375 \nQ 14.796875 37.203125 14.796875 27.296875 \nz\n\" id=\"DejaVuSans-100\"/>\n      </defs>\n      <g transform=\"translate(198.999361 468.916562)scale(0.1 -0.1)\">\n       <use xlink:href=\"#DejaVuSans-97\"/>\n       <use x=\"61.279297\" xlink:href=\"#DejaVuSans-110\"/>\n       <use x=\"124.658203\" xlink:href=\"#DejaVuSans-100\"/>\n       <use x=\"188.134766\" xlink:href=\"#DejaVuSans-115\"/>\n      </g>\n     </g>\n    </g>\n    <g id=\"xtick_5\">\n     <g id=\"line2d_5\">\n      <g>\n       <use style=\"stroke:#000000;stroke-width:0.8;\" x=\"243.096641\" xlink:href=\"#m8831b36997\" y=\"454.318125\"/>\n      </g>\n     </g>\n     <g id=\"text_5\">\n      <!-- csetm -->\n      <defs>\n       <path d=\"M 56.203125 29.59375 \nL 56.203125 25.203125 \nL 14.890625 25.203125 \nQ 15.484375 15.921875 20.484375 11.0625 \nQ 25.484375 6.203125 34.421875 6.203125 \nQ 39.59375 6.203125 44.453125 7.46875 \nQ 49.3125 8.734375 54.109375 11.28125 \nL 54.109375 2.78125 \nQ 49.265625 0.734375 44.1875 -0.34375 \nQ 39.109375 -1.421875 33.890625 -1.421875 \nQ 20.796875 -1.421875 13.15625 6.1875 \nQ 5.515625 13.8125 5.515625 26.8125 \nQ 5.515625 40.234375 12.765625 48.109375 \nQ 20.015625 56 32.328125 56 \nQ 43.359375 56 49.78125 48.890625 \nQ 56.203125 41.796875 56.203125 29.59375 \nz\nM 47.21875 32.234375 \nQ 47.125 39.59375 43.09375 43.984375 \nQ 39.0625 48.390625 32.421875 48.390625 \nQ 24.90625 48.390625 20.390625 44.140625 \nQ 15.875 39.890625 15.1875 32.171875 \nz\n\" id=\"DejaVuSans-101\"/>\n       <path d=\"M 18.3125 70.21875 \nL 18.3125 54.6875 \nL 36.8125 54.6875 \nL 36.8125 47.703125 \nL 18.3125 47.703125 \nL 18.3125 18.015625 \nQ 18.3125 11.328125 20.140625 9.421875 \nQ 21.96875 7.515625 27.59375 7.515625 \nL 36.8125 7.515625 \nL 36.8125 0 \nL 27.59375 0 \nQ 17.1875 0 13.234375 3.875 \nQ 9.28125 7.765625 9.28125 18.015625 \nL 9.28125 47.703125 \nL 2.6875 47.703125 \nL 2.6875 54.6875 \nL 9.28125 54.6875 \nL 9.28125 70.21875 \nz\n\" id=\"DejaVuSans-116\"/>\n       <path d=\"M 52 44.1875 \nQ 55.375 50.25 60.0625 53.125 \nQ 64.75 56 71.09375 56 \nQ 79.640625 56 84.28125 50.015625 \nQ 88.921875 44.046875 88.921875 33.015625 \nL 88.921875 0 \nL 79.890625 0 \nL 79.890625 32.71875 \nQ 79.890625 40.578125 77.09375 44.375 \nQ 74.3125 48.1875 68.609375 48.1875 \nQ 61.625 48.1875 57.5625 43.546875 \nQ 53.515625 38.921875 53.515625 30.90625 \nL 53.515625 0 \nL 44.484375 0 \nL 44.484375 32.71875 \nQ 44.484375 40.625 41.703125 44.40625 \nQ 38.921875 48.1875 33.109375 48.1875 \nQ 26.21875 48.1875 22.15625 43.53125 \nQ 18.109375 38.875 18.109375 30.90625 \nL 18.109375 0 \nL 9.078125 0 \nL 9.078125 54.6875 \nL 18.109375 54.6875 \nL 18.109375 46.1875 \nQ 21.1875 51.21875 25.484375 53.609375 \nQ 29.78125 56 35.6875 56 \nQ 41.65625 56 45.828125 52.96875 \nQ 50 49.953125 52 44.1875 \nz\n\" id=\"DejaVuSans-109\"/>\n      </defs>\n      <g transform=\"translate(227.835704 468.916562)scale(0.1 -0.1)\">\n       <use xlink:href=\"#DejaVuSans-99\"/>\n       <use x=\"54.980469\" xlink:href=\"#DejaVuSans-115\"/>\n       <use x=\"107.080078\" xlink:href=\"#DejaVuSans-101\"/>\n       <use x=\"168.603516\" xlink:href=\"#DejaVuSans-116\"/>\n       <use x=\"207.8125\" xlink:href=\"#DejaVuSans-109\"/>\n      </g>\n     </g>\n    </g>\n    <g id=\"xtick_6\">\n     <g id=\"line2d_6\">\n      <g>\n       <use style=\"stroke:#000000;stroke-width:0.8;\" x=\"275.182203\" xlink:href=\"#m8831b36997\" y=\"454.318125\"/>\n      </g>\n     </g>\n     <g id=\"text_6\">\n      <!-- bfi -->\n      <defs>\n       <path d=\"M 48.6875 27.296875 \nQ 48.6875 37.203125 44.609375 42.84375 \nQ 40.53125 48.484375 33.40625 48.484375 \nQ 26.265625 48.484375 22.1875 42.84375 \nQ 18.109375 37.203125 18.109375 27.296875 \nQ 18.109375 17.390625 22.1875 11.75 \nQ 26.265625 6.109375 33.40625 6.109375 \nQ 40.53125 6.109375 44.609375 11.75 \nQ 48.6875 17.390625 48.6875 27.296875 \nz\nM 18.109375 46.390625 \nQ 20.953125 51.265625 25.265625 53.625 \nQ 29.59375 56 35.59375 56 \nQ 45.5625 56 51.78125 48.09375 \nQ 58.015625 40.1875 58.015625 27.296875 \nQ 58.015625 14.40625 51.78125 6.484375 \nQ 45.5625 -1.421875 35.59375 -1.421875 \nQ 29.59375 -1.421875 25.265625 0.953125 \nQ 20.953125 3.328125 18.109375 8.203125 \nL 18.109375 0 \nL 9.078125 0 \nL 9.078125 75.984375 \nL 18.109375 75.984375 \nz\n\" id=\"DejaVuSans-98\"/>\n       <path d=\"M 37.109375 75.984375 \nL 37.109375 68.5 \nL 28.515625 68.5 \nQ 23.6875 68.5 21.796875 66.546875 \nQ 19.921875 64.59375 19.921875 59.515625 \nL 19.921875 54.6875 \nL 34.71875 54.6875 \nL 34.71875 47.703125 \nL 19.921875 47.703125 \nL 19.921875 0 \nL 10.890625 0 \nL 10.890625 47.703125 \nL 2.296875 47.703125 \nL 2.296875 54.6875 \nL 10.890625 54.6875 \nL 10.890625 58.5 \nQ 10.890625 67.625 15.140625 71.796875 \nQ 19.390625 75.984375 28.609375 75.984375 \nz\n\" id=\"DejaVuSans-102\"/>\n      </defs>\n      <g transform=\"translate(268.858765 468.916562)scale(0.1 -0.1)\">\n       <use xlink:href=\"#DejaVuSans-98\"/>\n       <use x=\"63.476562\" xlink:href=\"#DejaVuSans-102\"/>\n       <use x=\"98.681641\" xlink:href=\"#DejaVuSans-105\"/>\n      </g>\n     </g>\n    </g>\n    <g id=\"xtick_7\">\n     <g id=\"line2d_7\">\n      <g>\n       <use style=\"stroke:#000000;stroke-width:0.8;\" x=\"307.267764\" xlink:href=\"#m8831b36997\" y=\"454.318125\"/>\n      </g>\n     </g>\n     <g id=\"text_7\">\n      <!-- and -->\n      <g transform=\"translate(297.860733 468.916562)scale(0.1 -0.1)\">\n       <use xlink:href=\"#DejaVuSans-97\"/>\n       <use x=\"61.279297\" xlink:href=\"#DejaVuSans-110\"/>\n       <use x=\"124.658203\" xlink:href=\"#DejaVuSans-100\"/>\n      </g>\n     </g>\n    </g>\n    <g id=\"xtick_8\">\n     <g id=\"line2d_8\">\n      <g>\n       <use style=\"stroke:#000000;stroke-width:0.8;\" x=\"339.353326\" xlink:href=\"#m8831b36997\" y=\"454.318125\"/>\n      </g>\n     </g>\n     <g id=\"text_8\">\n      <!-- csneg -->\n      <defs>\n       <path d=\"M 45.40625 27.984375 \nQ 45.40625 37.75 41.375 43.109375 \nQ 37.359375 48.484375 30.078125 48.484375 \nQ 22.859375 48.484375 18.828125 43.109375 \nQ 14.796875 37.75 14.796875 27.984375 \nQ 14.796875 18.265625 18.828125 12.890625 \nQ 22.859375 7.515625 30.078125 7.515625 \nQ 37.359375 7.515625 41.375 12.890625 \nQ 45.40625 18.265625 45.40625 27.984375 \nz\nM 54.390625 6.78125 \nQ 54.390625 -7.171875 48.1875 -13.984375 \nQ 42 -20.796875 29.203125 -20.796875 \nQ 24.46875 -20.796875 20.265625 -20.09375 \nQ 16.0625 -19.390625 12.109375 -17.921875 \nL 12.109375 -9.1875 \nQ 16.0625 -11.328125 19.921875 -12.34375 \nQ 23.78125 -13.375 27.78125 -13.375 \nQ 36.625 -13.375 41.015625 -8.765625 \nQ 45.40625 -4.15625 45.40625 5.171875 \nL 45.40625 9.625 \nQ 42.625 4.78125 38.28125 2.390625 \nQ 33.9375 0 27.875 0 \nQ 17.828125 0 11.671875 7.65625 \nQ 5.515625 15.328125 5.515625 27.984375 \nQ 5.515625 40.671875 11.671875 48.328125 \nQ 17.828125 56 27.875 56 \nQ 33.9375 56 38.28125 53.609375 \nQ 42.625 51.21875 45.40625 46.390625 \nL 45.40625 54.6875 \nL 54.390625 54.6875 \nz\n\" id=\"DejaVuSans-103\"/>\n      </defs>\n      <g transform=\"translate(324.579888 468.916562)scale(0.1 -0.1)\">\n       <use xlink:href=\"#DejaVuSans-99\"/>\n       <use x=\"54.980469\" xlink:href=\"#DejaVuSans-115\"/>\n       <use x=\"107.080078\" xlink:href=\"#DejaVuSans-110\"/>\n       <use x=\"170.458984\" xlink:href=\"#DejaVuSans-101\"/>\n       <use x=\"231.982422\" xlink:href=\"#DejaVuSans-103\"/>\n      </g>\n     </g>\n    </g>\n    <g id=\"xtick_9\">\n     <g id=\"line2d_9\">\n      <g>\n       <use style=\"stroke:#000000;stroke-width:0.8;\" x=\"371.438887\" xlink:href=\"#m8831b36997\" y=\"454.318125\"/>\n      </g>\n     </g>\n     <g id=\"text_9\">\n      <!-- add -->\n      <g transform=\"translate(362.026387 468.916562)scale(0.1 -0.1)\">\n       <use xlink:href=\"#DejaVuSans-97\"/>\n       <use x=\"61.279297\" xlink:href=\"#DejaVuSans-100\"/>\n       <use x=\"124.755859\" xlink:href=\"#DejaVuSans-100\"/>\n      </g>\n     </g>\n    </g>\n    <g id=\"xtick_10\">\n     <g id=\"line2d_10\">\n      <g>\n       <use style=\"stroke:#000000;stroke-width:0.8;\" x=\"403.524449\" xlink:href=\"#m8831b36997\" y=\"454.318125\"/>\n      </g>\n     </g>\n     <g id=\"text_10\">\n      <!-- sbfx -->\n      <defs>\n       <path d=\"M 54.890625 54.6875 \nL 35.109375 28.078125 \nL 55.90625 0 \nL 45.3125 0 \nL 29.390625 21.484375 \nL 13.484375 0 \nL 2.875 0 \nL 24.125 28.609375 \nL 4.6875 54.6875 \nL 15.28125 54.6875 \nL 29.78125 35.203125 \nL 44.28125 54.6875 \nz\n\" id=\"DejaVuSans-120\"/>\n      </defs>\n      <g transform=\"translate(393.026011 468.916562)scale(0.1 -0.1)\">\n       <use xlink:href=\"#DejaVuSans-115\"/>\n       <use x=\"52.099609\" xlink:href=\"#DejaVuSans-98\"/>\n       <use x=\"115.576172\" xlink:href=\"#DejaVuSans-102\"/>\n       <use x=\"150.78125\" xlink:href=\"#DejaVuSans-120\"/>\n      </g>\n     </g>\n    </g>\n    <g id=\"xtick_11\">\n     <g id=\"line2d_11\">\n      <g>\n       <use style=\"stroke:#000000;stroke-width:0.8;\" x=\"435.61001\" xlink:href=\"#m8831b36997\" y=\"454.318125\"/>\n      </g>\n     </g>\n     <g id=\"text_11\">\n      <!-- ret -->\n      <g transform=\"translate(428.519385 468.916562)scale(0.1 -0.1)\">\n       <use xlink:href=\"#DejaVuSans-114\"/>\n       <use x=\"41.082031\" xlink:href=\"#DejaVuSans-101\"/>\n       <use x=\"102.605469\" xlink:href=\"#DejaVuSans-116\"/>\n      </g>\n     </g>\n    </g>\n    <g id=\"xtick_12\">\n     <g id=\"line2d_12\">\n      <g>\n       <use style=\"stroke:#000000;stroke-width:0.8;\" x=\"467.695572\" xlink:href=\"#m8831b36997\" y=\"454.318125\"/>\n      </g>\n     </g>\n     <g id=\"text_12\">\n      <!-- ubfiz -->\n      <defs>\n       <path d=\"M 8.5 21.578125 \nL 8.5 54.6875 \nL 17.484375 54.6875 \nL 17.484375 21.921875 \nQ 17.484375 14.15625 20.5 10.265625 \nQ 23.53125 6.390625 29.59375 6.390625 \nQ 36.859375 6.390625 41.078125 11.03125 \nQ 45.3125 15.671875 45.3125 23.6875 \nL 45.3125 54.6875 \nL 54.296875 54.6875 \nL 54.296875 0 \nL 45.3125 0 \nL 45.3125 8.40625 \nQ 42.046875 3.421875 37.71875 1 \nQ 33.40625 -1.421875 27.6875 -1.421875 \nQ 18.265625 -1.421875 13.375 4.4375 \nQ 8.5 10.296875 8.5 21.578125 \nz\nM 31.109375 56 \nz\n\" id=\"DejaVuSans-117\"/>\n       <path d=\"M 5.515625 54.6875 \nL 48.1875 54.6875 \nL 48.1875 46.484375 \nL 14.40625 7.171875 \nL 48.1875 7.171875 \nL 48.1875 0 \nL 4.296875 0 \nL 4.296875 8.203125 \nL 38.09375 47.515625 \nL 5.515625 47.515625 \nz\n\" id=\"DejaVuSans-122\"/>\n      </defs>\n      <g transform=\"translate(455.579165 468.916562)scale(0.1 -0.1)\">\n       <use xlink:href=\"#DejaVuSans-117\"/>\n       <use x=\"63.378906\" xlink:href=\"#DejaVuSans-98\"/>\n       <use x=\"126.855469\" xlink:href=\"#DejaVuSans-102\"/>\n       <use x=\"162.060547\" xlink:href=\"#DejaVuSans-105\"/>\n       <use x=\"189.84375\" xlink:href=\"#DejaVuSans-122\"/>\n      </g>\n     </g>\n    </g>\n    <g id=\"xtick_13\">\n     <g id=\"line2d_13\">\n      <g>\n       <use style=\"stroke:#000000;stroke-width:0.8;\" x=\"499.781133\" xlink:href=\"#m8831b36997\" y=\"454.318125\"/>\n      </g>\n     </g>\n     <g id=\"text_13\">\n      <!-- neg -->\n      <g transform=\"translate(490.361602 468.916562)scale(0.1 -0.1)\">\n       <use xlink:href=\"#DejaVuSans-110\"/>\n       <use x=\"63.378906\" xlink:href=\"#DejaVuSans-101\"/>\n       <use x=\"124.902344\" xlink:href=\"#DejaVuSans-103\"/>\n      </g>\n     </g>\n    </g>\n    <g id=\"xtick_14\">\n     <g id=\"line2d_14\">\n      <g>\n       <use style=\"stroke:#000000;stroke-width:0.8;\" x=\"531.866695\" xlink:href=\"#m8831b36997\" y=\"454.318125\"/>\n      </g>\n     </g>\n     <g id=\"text_14\">\n      <!-- asr -->\n      <g transform=\"translate(524.142476 468.916562)scale(0.1 -0.1)\">\n       <use xlink:href=\"#DejaVuSans-97\"/>\n       <use x=\"61.279297\" xlink:href=\"#DejaVuSans-115\"/>\n       <use x=\"113.378906\" xlink:href=\"#DejaVuSans-114\"/>\n      </g>\n     </g>\n    </g>\n    <g id=\"xtick_15\">\n     <g id=\"line2d_15\">\n      <g>\n       <use style=\"stroke:#000000;stroke-width:0.8;\" x=\"563.952256\" xlink:href=\"#m8831b36997\" y=\"454.318125\"/>\n      </g>\n     </g>\n     <g id=\"text_15\">\n      <!-- sub -->\n      <g transform=\"translate(555.0046 468.916562)scale(0.1 -0.1)\">\n       <use xlink:href=\"#DejaVuSans-115\"/>\n       <use x=\"52.099609\" xlink:href=\"#DejaVuSans-117\"/>\n       <use x=\"115.478516\" xlink:href=\"#DejaVuSans-98\"/>\n      </g>\n     </g>\n    </g>\n    <g id=\"xtick_16\">\n     <g id=\"line2d_16\">\n      <g>\n       <use style=\"stroke:#000000;stroke-width:0.8;\" x=\"596.037818\" xlink:href=\"#m8831b36997\" y=\"454.318125\"/>\n      </g>\n     </g>\n     <g id=\"text_16\">\n      <!-- tst -->\n      <g transform=\"translate(589.512818 468.916562)scale(0.1 -0.1)\">\n       <use xlink:href=\"#DejaVuSans-116\"/>\n       <use x=\"39.208984\" xlink:href=\"#DejaVuSans-115\"/>\n       <use x=\"91.308594\" xlink:href=\"#DejaVuSans-116\"/>\n      </g>\n     </g>\n    </g>\n    <g id=\"xtick_17\">\n     <g id=\"line2d_17\">\n      <g>\n       <use style=\"stroke:#000000;stroke-width:0.8;\" x=\"628.123379\" xlink:href=\"#m8831b36997\" y=\"454.318125\"/>\n      </g>\n     </g>\n     <g id=\"text_17\">\n      <!-- bics -->\n      <g transform=\"translate(618.206192 468.916562)scale(0.1 -0.1)\">\n       <use xlink:href=\"#DejaVuSans-98\"/>\n       <use x=\"63.476562\" xlink:href=\"#DejaVuSans-105\"/>\n       <use x=\"91.259766\" xlink:href=\"#DejaVuSans-99\"/>\n       <use x=\"146.240234\" xlink:href=\"#DejaVuSans-115\"/>\n      </g>\n     </g>\n    </g>\n    <g id=\"xtick_18\">\n     <g id=\"line2d_18\">\n      <g>\n       <use style=\"stroke:#000000;stroke-width:0.8;\" x=\"660.208941\" xlink:href=\"#m8831b36997\" y=\"454.318125\"/>\n      </g>\n     </g>\n     <g id=\"text_18\">\n      <!-- ldp -->\n      <defs>\n       <path d=\"M 18.109375 8.203125 \nL 18.109375 -20.796875 \nL 9.078125 -20.796875 \nL 9.078125 54.6875 \nL 18.109375 54.6875 \nL 18.109375 46.390625 \nQ 20.953125 51.265625 25.265625 53.625 \nQ 29.59375 56 35.59375 56 \nQ 45.5625 56 51.78125 48.09375 \nQ 58.015625 40.1875 58.015625 27.296875 \nQ 58.015625 14.40625 51.78125 6.484375 \nQ 45.5625 -1.421875 35.59375 -1.421875 \nQ 29.59375 -1.421875 25.265625 0.953125 \nQ 20.953125 3.328125 18.109375 8.203125 \nz\nM 48.6875 27.296875 \nQ 48.6875 37.203125 44.609375 42.84375 \nQ 40.53125 48.484375 33.40625 48.484375 \nQ 26.265625 48.484375 22.1875 42.84375 \nQ 18.109375 37.203125 18.109375 27.296875 \nQ 18.109375 17.390625 22.1875 11.75 \nQ 26.265625 6.109375 33.40625 6.109375 \nQ 40.53125 6.109375 44.609375 11.75 \nQ 48.6875 17.390625 48.6875 27.296875 \nz\n\" id=\"DejaVuSans-112\"/>\n      </defs>\n      <g transform=\"translate(652.471441 468.916562)scale(0.1 -0.1)\">\n       <use xlink:href=\"#DejaVuSans-108\"/>\n       <use x=\"27.783203\" xlink:href=\"#DejaVuSans-100\"/>\n       <use x=\"91.259766\" xlink:href=\"#DejaVuSans-112\"/>\n      </g>\n     </g>\n    </g>\n    <g id=\"xtick_19\">\n     <g id=\"line2d_19\">\n      <g>\n       <use style=\"stroke:#000000;stroke-width:0.8;\" x=\"692.294502\" xlink:href=\"#m8831b36997\" y=\"454.318125\"/>\n      </g>\n     </g>\n     <g id=\"text_19\">\n      <!-- mov -->\n      <defs>\n       <path d=\"M 2.984375 54.6875 \nL 12.5 54.6875 \nL 29.59375 8.796875 \nL 46.6875 54.6875 \nL 56.203125 54.6875 \nL 35.6875 0 \nL 23.484375 0 \nz\n\" id=\"DejaVuSans-118\"/>\n      </defs>\n      <g transform=\"translate(681.40544 468.916562)scale(0.1 -0.1)\">\n       <use xlink:href=\"#DejaVuSans-109\"/>\n       <use x=\"97.412109\" xlink:href=\"#DejaVuSans-111\"/>\n       <use x=\"158.59375\" xlink:href=\"#DejaVuSans-118\"/>\n      </g>\n     </g>\n    </g>\n    <g id=\"xtick_20\">\n     <g id=\"line2d_20\">\n      <g>\n       <use style=\"stroke:#000000;stroke-width:0.8;\" x=\"724.380064\" xlink:href=\"#m8831b36997\" y=\"454.318125\"/>\n      </g>\n     </g>\n     <g id=\"text_20\">\n      <!-- mul -->\n      <g transform=\"translate(714.951939 468.916562)scale(0.1 -0.1)\">\n       <use xlink:href=\"#DejaVuSans-109\"/>\n       <use x=\"97.412109\" xlink:href=\"#DejaVuSans-117\"/>\n       <use x=\"160.791016\" xlink:href=\"#DejaVuSans-108\"/>\n      </g>\n     </g>\n    </g>\n    <g id=\"xtick_21\">\n     <g id=\"line2d_21\">\n      <g>\n       <use style=\"stroke:#000000;stroke-width:0.8;\" x=\"756.465625\" xlink:href=\"#m8831b36997\" y=\"454.318125\"/>\n      </g>\n     </g>\n     <g id=\"text_21\">\n      <!-- stp -->\n      <g transform=\"translate(748.726563 468.916562)scale(0.1 -0.1)\">\n       <use xlink:href=\"#DejaVuSans-115\"/>\n       <use x=\"52.099609\" xlink:href=\"#DejaVuSans-116\"/>\n       <use x=\"91.308594\" xlink:href=\"#DejaVuSans-112\"/>\n      </g>\n     </g>\n    </g>\n    <g id=\"xtick_22\">\n     <g id=\"line2d_22\">\n      <g>\n       <use style=\"stroke:#000000;stroke-width:0.8;\" x=\"788.551186\" xlink:href=\"#m8831b36997\" y=\"454.318125\"/>\n      </g>\n     </g>\n     <g id=\"text_22\">\n      <!-- csinc -->\n      <g transform=\"translate(775.890249 468.916562)scale(0.1 -0.1)\">\n       <use xlink:href=\"#DejaVuSans-99\"/>\n       <use x=\"54.980469\" xlink:href=\"#DejaVuSans-115\"/>\n       <use x=\"107.080078\" xlink:href=\"#DejaVuSans-105\"/>\n       <use x=\"134.863281\" xlink:href=\"#DejaVuSans-110\"/>\n       <use x=\"198.242188\" xlink:href=\"#DejaVuSans-99\"/>\n      </g>\n     </g>\n    </g>\n    <g id=\"xtick_23\">\n     <g id=\"line2d_23\">\n      <g>\n       <use style=\"stroke:#000000;stroke-width:0.8;\" x=\"820.636748\" xlink:href=\"#m8831b36997\" y=\"454.318125\"/>\n      </g>\n     </g>\n     <g id=\"text_23\">\n      <!-- csel -->\n      <g transform=\"translate(810.817217 468.916562)scale(0.1 -0.1)\">\n       <use xlink:href=\"#DejaVuSans-99\"/>\n       <use x=\"54.980469\" xlink:href=\"#DejaVuSans-115\"/>\n       <use x=\"107.080078\" xlink:href=\"#DejaVuSans-101\"/>\n       <use x=\"168.603516\" xlink:href=\"#DejaVuSans-108\"/>\n      </g>\n     </g>\n    </g>\n    <g id=\"xtick_24\">\n     <g id=\"line2d_24\">\n      <g>\n       <use style=\"stroke:#000000;stroke-width:0.8;\" x=\"852.722309\" xlink:href=\"#m8831b36997\" y=\"454.318125\"/>\n      </g>\n     </g>\n     <g id=\"text_24\">\n      <!-- movn -->\n      <g transform=\"translate(838.664497 468.916562)scale(0.1 -0.1)\">\n       <use xlink:href=\"#DejaVuSans-109\"/>\n       <use x=\"97.412109\" xlink:href=\"#DejaVuSans-111\"/>\n       <use x=\"158.59375\" xlink:href=\"#DejaVuSans-118\"/>\n       <use x=\"217.773438\" xlink:href=\"#DejaVuSans-110\"/>\n      </g>\n     </g>\n    </g>\n    <g id=\"xtick_25\">\n     <g id=\"line2d_25\">\n      <g>\n       <use style=\"stroke:#000000;stroke-width:0.8;\" x=\"884.807871\" xlink:href=\"#m8831b36997\" y=\"454.318125\"/>\n      </g>\n     </g>\n     <g id=\"text_25\">\n      <!-- ldr -->\n      <g transform=\"translate(878.189121 468.916562)scale(0.1 -0.1)\">\n       <use xlink:href=\"#DejaVuSans-108\"/>\n       <use x=\"27.783203\" xlink:href=\"#DejaVuSans-100\"/>\n       <use x=\"91.259766\" xlink:href=\"#DejaVuSans-114\"/>\n      </g>\n     </g>\n    </g>\n    <g id=\"xtick_26\">\n     <g id=\"line2d_26\">\n      <g>\n       <use style=\"stroke:#000000;stroke-width:0.8;\" x=\"916.893432\" xlink:href=\"#m8831b36997\" y=\"454.318125\"/>\n      </g>\n     </g>\n     <g id=\"text_26\">\n      <!-- movz -->\n      <g transform=\"translate(903.380151 468.916562)scale(0.1 -0.1)\">\n       <use xlink:href=\"#DejaVuSans-109\"/>\n       <use x=\"97.412109\" xlink:href=\"#DejaVuSans-111\"/>\n       <use x=\"158.59375\" xlink:href=\"#DejaVuSans-118\"/>\n       <use x=\"217.773438\" xlink:href=\"#DejaVuSans-122\"/>\n      </g>\n     </g>\n    </g>\n    <g id=\"xtick_27\">\n     <g id=\"line2d_27\">\n      <g>\n       <use style=\"stroke:#000000;stroke-width:0.8;\" x=\"948.978994\" xlink:href=\"#m8831b36997\" y=\"454.318125\"/>\n      </g>\n     </g>\n     <g id=\"text_27\">\n      <!-- strb -->\n      <g transform=\"translate(939.184463 468.916562)scale(0.1 -0.1)\">\n       <use xlink:href=\"#DejaVuSans-115\"/>\n       <use x=\"52.099609\" xlink:href=\"#DejaVuSans-116\"/>\n       <use x=\"91.308594\" xlink:href=\"#DejaVuSans-114\"/>\n       <use x=\"132.421875\" xlink:href=\"#DejaVuSans-98\"/>\n      </g>\n     </g>\n    </g>\n    <g id=\"xtick_28\">\n     <g id=\"line2d_28\">\n      <g>\n       <use style=\"stroke:#000000;stroke-width:0.8;\" x=\"981.064555\" xlink:href=\"#m8831b36997\" y=\"454.318125\"/>\n      </g>\n     </g>\n     <g id=\"text_28\">\n      <!-- bfxil -->\n      <g transform=\"translate(970.39268 468.916562)scale(0.1 -0.1)\">\n       <use xlink:href=\"#DejaVuSans-98\"/>\n       <use x=\"63.476562\" xlink:href=\"#DejaVuSans-102\"/>\n       <use x=\"98.681641\" xlink:href=\"#DejaVuSans-120\"/>\n       <use x=\"157.861328\" xlink:href=\"#DejaVuSans-105\"/>\n       <use x=\"185.644531\" xlink:href=\"#DejaVuSans-108\"/>\n      </g>\n     </g>\n    </g>\n    <g id=\"xtick_29\">\n     <g id=\"line2d_29\">\n      <g>\n       <use style=\"stroke:#000000;stroke-width:0.8;\" x=\"1013.150117\" xlink:href=\"#m8831b36997\" y=\"454.318125\"/>\n      </g>\n     </g>\n     <g id=\"text_29\">\n      <!-- str -->\n      <g transform=\"translate(1006.529804 468.916562)scale(0.1 -0.1)\">\n       <use xlink:href=\"#DejaVuSans-115\"/>\n       <use x=\"52.099609\" xlink:href=\"#DejaVuSans-116\"/>\n       <use x=\"91.308594\" xlink:href=\"#DejaVuSans-114\"/>\n      </g>\n     </g>\n    </g>\n    <g id=\"xtick_30\">\n     <g id=\"line2d_30\">\n      <g>\n       <use style=\"stroke:#000000;stroke-width:0.8;\" x=\"1045.235678\" xlink:href=\"#m8831b36997\" y=\"454.318125\"/>\n      </g>\n     </g>\n     <g id=\"text_30\">\n      <!-- movk -->\n      <defs>\n       <path d=\"M 9.078125 75.984375 \nL 18.109375 75.984375 \nL 18.109375 31.109375 \nL 44.921875 54.6875 \nL 56.390625 54.6875 \nL 27.390625 29.109375 \nL 57.625 0 \nL 45.90625 0 \nL 18.109375 26.703125 \nL 18.109375 0 \nL 9.078125 0 \nz\n\" id=\"DejaVuSans-107\"/>\n      </defs>\n      <g transform=\"translate(1031.451303 468.916562)scale(0.1 -0.1)\">\n       <use xlink:href=\"#DejaVuSans-109\"/>\n       <use x=\"97.412109\" xlink:href=\"#DejaVuSans-111\"/>\n       <use x=\"158.59375\" xlink:href=\"#DejaVuSans-118\"/>\n       <use x=\"217.773438\" xlink:href=\"#DejaVuSans-107\"/>\n      </g>\n     </g>\n    </g>\n    <g id=\"xtick_31\">\n     <g id=\"line2d_31\">\n      <g>\n       <use style=\"stroke:#000000;stroke-width:0.8;\" x=\"1077.32124\" xlink:href=\"#m8831b36997\" y=\"454.318125\"/>\n      </g>\n     </g>\n     <g id=\"text_31\">\n      <!-- cset -->\n      <g transform=\"translate(1066.930615 468.916562)scale(0.1 -0.1)\">\n       <use xlink:href=\"#DejaVuSans-99\"/>\n       <use x=\"54.980469\" xlink:href=\"#DejaVuSans-115\"/>\n       <use x=\"107.080078\" xlink:href=\"#DejaVuSans-101\"/>\n       <use x=\"168.603516\" xlink:href=\"#DejaVuSans-116\"/>\n      </g>\n     </g>\n    </g>\n    <g id=\"xtick_32\">\n     <g id=\"line2d_32\">\n      <g>\n       <use style=\"stroke:#000000;stroke-width:0.8;\" x=\"1109.406801\" xlink:href=\"#m8831b36997\" y=\"454.318125\"/>\n      </g>\n     </g>\n     <g id=\"text_32\">\n      <!-- ccmp -->\n      <g transform=\"translate(1095.863833 468.916562)scale(0.1 -0.1)\">\n       <use xlink:href=\"#DejaVuSans-99\"/>\n       <use x=\"54.980469\" xlink:href=\"#DejaVuSans-99\"/>\n       <use x=\"109.960938\" xlink:href=\"#DejaVuSans-109\"/>\n       <use x=\"207.373047\" xlink:href=\"#DejaVuSans-112\"/>\n      </g>\n     </g>\n    </g>\n    <g id=\"xtick_33\">\n     <g id=\"line2d_33\">\n      <g>\n       <use style=\"stroke:#000000;stroke-width:0.8;\" x=\"1141.492363\" xlink:href=\"#m8831b36997\" y=\"454.318125\"/>\n      </g>\n     </g>\n     <g id=\"text_33\">\n      <!-- cmp -->\n      <g transform=\"translate(1130.698613 468.916562)scale(0.1 -0.1)\">\n       <use xlink:href=\"#DejaVuSans-99\"/>\n       <use x=\"54.980469\" xlink:href=\"#DejaVuSans-109\"/>\n       <use x=\"152.392578\" xlink:href=\"#DejaVuSans-112\"/>\n      </g>\n     </g>\n    </g>\n    <g id=\"xtick_34\">\n     <g id=\"line2d_34\">\n      <g>\n       <use style=\"stroke:#000000;stroke-width:0.8;\" x=\"1173.577924\" xlink:href=\"#m8831b36997\" y=\"454.318125\"/>\n      </g>\n     </g>\n     <g id=\"text_34\">\n      <!-- madd -->\n      <g transform=\"translate(1159.295112 468.916562)scale(0.1 -0.1)\">\n       <use xlink:href=\"#DejaVuSans-109\"/>\n       <use x=\"97.412109\" xlink:href=\"#DejaVuSans-97\"/>\n       <use x=\"158.691406\" xlink:href=\"#DejaVuSans-100\"/>\n       <use x=\"222.167969\" xlink:href=\"#DejaVuSans-100\"/>\n      </g>\n     </g>\n    </g>\n    <g id=\"xtick_35\">\n     <g id=\"line2d_35\">\n      <g>\n       <use style=\"stroke:#000000;stroke-width:0.8;\" x=\"1205.663486\" xlink:href=\"#m8831b36997\" y=\"454.318125\"/>\n      </g>\n     </g>\n     <g id=\"text_35\">\n      <!-- adds -->\n      <g transform=\"translate(1193.646298 468.916562)scale(0.1 -0.1)\">\n       <use xlink:href=\"#DejaVuSans-97\"/>\n       <use x=\"61.279297\" xlink:href=\"#DejaVuSans-100\"/>\n       <use x=\"124.755859\" xlink:href=\"#DejaVuSans-100\"/>\n       <use x=\"188.232422\" xlink:href=\"#DejaVuSans-115\"/>\n      </g>\n     </g>\n    </g>\n    <g id=\"xtick_36\">\n     <g id=\"line2d_36\">\n      <g>\n       <use style=\"stroke:#000000;stroke-width:0.8;\" x=\"1237.749047\" xlink:href=\"#m8831b36997\" y=\"454.318125\"/>\n      </g>\n     </g>\n     <g id=\"text_36\">\n      <!-- lsr -->\n      <g transform=\"translate(1231.699829 468.916562)scale(0.1 -0.1)\">\n       <use xlink:href=\"#DejaVuSans-108\"/>\n       <use x=\"27.783203\" xlink:href=\"#DejaVuSans-115\"/>\n       <use x=\"79.882812\" xlink:href=\"#DejaVuSans-114\"/>\n      </g>\n     </g>\n    </g>\n    <g id=\"xtick_37\">\n     <g id=\"line2d_37\">\n      <g>\n       <use style=\"stroke:#000000;stroke-width:0.8;\" x=\"1269.834609\" xlink:href=\"#m8831b36997\" y=\"454.318125\"/>\n      </g>\n     </g>\n     <g id=\"text_37\">\n      <!-- ubfx -->\n      <g transform=\"translate(1258.772109 468.916562)scale(0.1 -0.1)\">\n       <use xlink:href=\"#DejaVuSans-117\"/>\n       <use x=\"63.378906\" xlink:href=\"#DejaVuSans-98\"/>\n       <use x=\"126.855469\" xlink:href=\"#DejaVuSans-102\"/>\n       <use x=\"162.060547\" xlink:href=\"#DejaVuSans-120\"/>\n      </g>\n     </g>\n    </g>\n    <g id=\"xtick_38\">\n     <g id=\"line2d_38\">\n      <g>\n       <use style=\"stroke:#000000;stroke-width:0.8;\" x=\"1301.92017\" xlink:href=\"#m8831b36997\" y=\"454.318125\"/>\n      </g>\n     </g>\n     <g id=\"text_38\">\n      <!-- eor -->\n      <g transform=\"translate(1293.728764 468.916562)scale(0.1 -0.1)\">\n       <use xlink:href=\"#DejaVuSans-101\"/>\n       <use x=\"61.523438\" xlink:href=\"#DejaVuSans-111\"/>\n       <use x=\"122.705078\" xlink:href=\"#DejaVuSans-114\"/>\n      </g>\n     </g>\n    </g>\n    <g id=\"xtick_39\">\n     <g id=\"line2d_39\">\n      <g>\n       <use style=\"stroke:#000000;stroke-width:0.8;\" x=\"1334.005732\" xlink:href=\"#m8831b36997\" y=\"454.318125\"/>\n      </g>\n     </g>\n     <g id=\"text_39\">\n      <!-- umull -->\n      <g transform=\"translate(1320.019794 468.916562)scale(0.1 -0.1)\">\n       <use xlink:href=\"#DejaVuSans-117\"/>\n       <use x=\"63.378906\" xlink:href=\"#DejaVuSans-109\"/>\n       <use x=\"160.791016\" xlink:href=\"#DejaVuSans-117\"/>\n       <use x=\"224.169922\" xlink:href=\"#DejaVuSans-108\"/>\n       <use x=\"251.953125\" xlink:href=\"#DejaVuSans-108\"/>\n      </g>\n     </g>\n    </g>\n    <g id=\"xtick_40\">\n     <g id=\"line2d_40\">\n      <g>\n       <use style=\"stroke:#000000;stroke-width:0.8;\" x=\"1366.091293\" xlink:href=\"#m8831b36997\" y=\"454.318125\"/>\n      </g>\n     </g>\n     <g id=\"text_40\">\n      <!-- mvn -->\n      <g transform=\"translate(1355.092856 468.916562)scale(0.1 -0.1)\">\n       <use xlink:href=\"#DejaVuSans-109\"/>\n       <use x=\"97.412109\" xlink:href=\"#DejaVuSans-118\"/>\n       <use x=\"156.591797\" xlink:href=\"#DejaVuSans-110\"/>\n      </g>\n     </g>\n    </g>\n    <g id=\"xtick_41\">\n     <g id=\"line2d_41\">\n      <g>\n       <use style=\"stroke:#000000;stroke-width:0.8;\" x=\"1398.176855\" xlink:href=\"#m8831b36997\" y=\"454.318125\"/>\n      </g>\n     </g>\n     <g id=\"text_41\">\n      <!-- length -->\n      <defs>\n       <path d=\"M 54.890625 33.015625 \nL 54.890625 0 \nL 45.90625 0 \nL 45.90625 32.71875 \nQ 45.90625 40.484375 42.875 44.328125 \nQ 39.84375 48.1875 33.796875 48.1875 \nQ 26.515625 48.1875 22.3125 43.546875 \nQ 18.109375 38.921875 18.109375 30.90625 \nL 18.109375 0 \nL 9.078125 0 \nL 9.078125 75.984375 \nL 18.109375 75.984375 \nL 18.109375 46.1875 \nQ 21.34375 51.125 25.703125 53.5625 \nQ 30.078125 56 35.796875 56 \nQ 45.21875 56 50.046875 50.171875 \nQ 54.890625 44.34375 54.890625 33.015625 \nz\n\" id=\"DejaVuSans-104\"/>\n      </defs>\n      <g transform=\"translate(1382.239355 468.916562)scale(0.1 -0.1)\">\n       <use xlink:href=\"#DejaVuSans-108\"/>\n       <use x=\"27.783203\" xlink:href=\"#DejaVuSans-101\"/>\n       <use x=\"89.306641\" xlink:href=\"#DejaVuSans-110\"/>\n       <use x=\"152.685547\" xlink:href=\"#DejaVuSans-103\"/>\n       <use x=\"216.162109\" xlink:href=\"#DejaVuSans-116\"/>\n       <use x=\"255.371094\" xlink:href=\"#DejaVuSans-104\"/>\n      </g>\n     </g>\n    </g>\n   </g>\n   <g id=\"matplotlib.axis_2\">\n    <g id=\"ytick_1\">\n     <g id=\"line2d_42\">\n      <defs>\n       <path d=\"M 0 0 \nL -3.5 0 \n\" id=\"m286e350bdf\" style=\"stroke:#000000;stroke-width:0.8;\"/>\n      </defs>\n      <g>\n       <use style=\"stroke:#000000;stroke-width:0.8;\" x=\"36.465625\" xlink:href=\"#m286e350bdf\" y=\"454.318125\"/>\n      </g>\n     </g>\n     <g id=\"text_42\">\n      <!-- 0.00 -->\n      <defs>\n       <path d=\"M 31.78125 66.40625 \nQ 24.171875 66.40625 20.328125 58.90625 \nQ 16.5 51.421875 16.5 36.375 \nQ 16.5 21.390625 20.328125 13.890625 \nQ 24.171875 6.390625 31.78125 6.390625 \nQ 39.453125 6.390625 43.28125 13.890625 \nQ 47.125 21.390625 47.125 36.375 \nQ 47.125 51.421875 43.28125 58.90625 \nQ 39.453125 66.40625 31.78125 66.40625 \nz\nM 31.78125 74.21875 \nQ 44.046875 74.21875 50.515625 64.515625 \nQ 56.984375 54.828125 56.984375 36.375 \nQ 56.984375 17.96875 50.515625 8.265625 \nQ 44.046875 -1.421875 31.78125 -1.421875 \nQ 19.53125 -1.421875 13.0625 8.265625 \nQ 6.59375 17.96875 6.59375 36.375 \nQ 6.59375 54.828125 13.0625 64.515625 \nQ 19.53125 74.21875 31.78125 74.21875 \nz\n\" id=\"DejaVuSans-48\"/>\n       <path d=\"M 10.6875 12.40625 \nL 21 12.40625 \nL 21 0 \nL 10.6875 0 \nz\n\" id=\"DejaVuSans-46\"/>\n      </defs>\n      <g transform=\"translate(7.2 458.117344)scale(0.1 -0.1)\">\n       <use xlink:href=\"#DejaVuSans-48\"/>\n       <use x=\"63.623047\" xlink:href=\"#DejaVuSans-46\"/>\n       <use x=\"95.410156\" xlink:href=\"#DejaVuSans-48\"/>\n       <use x=\"159.033203\" xlink:href=\"#DejaVuSans-48\"/>\n      </g>\n     </g>\n    </g>\n    <g id=\"ytick_2\">\n     <g id=\"line2d_43\">\n      <g>\n       <use style=\"stroke:#000000;stroke-width:0.8;\" x=\"36.465625\" xlink:href=\"#m286e350bdf\" y=\"371.304479\"/>\n      </g>\n     </g>\n     <g id=\"text_43\">\n      <!-- 0.01 -->\n      <defs>\n       <path d=\"M 12.40625 8.296875 \nL 28.515625 8.296875 \nL 28.515625 63.921875 \nL 10.984375 60.40625 \nL 10.984375 69.390625 \nL 28.421875 72.90625 \nL 38.28125 72.90625 \nL 38.28125 8.296875 \nL 54.390625 8.296875 \nL 54.390625 0 \nL 12.40625 0 \nz\n\" id=\"DejaVuSans-49\"/>\n      </defs>\n      <g transform=\"translate(7.2 375.103698)scale(0.1 -0.1)\">\n       <use xlink:href=\"#DejaVuSans-48\"/>\n       <use x=\"63.623047\" xlink:href=\"#DejaVuSans-46\"/>\n       <use x=\"95.410156\" xlink:href=\"#DejaVuSans-48\"/>\n       <use x=\"159.033203\" xlink:href=\"#DejaVuSans-49\"/>\n      </g>\n     </g>\n    </g>\n    <g id=\"ytick_3\">\n     <g id=\"line2d_44\">\n      <g>\n       <use style=\"stroke:#000000;stroke-width:0.8;\" x=\"36.465625\" xlink:href=\"#m286e350bdf\" y=\"288.290833\"/>\n      </g>\n     </g>\n     <g id=\"text_44\">\n      <!-- 0.02 -->\n      <defs>\n       <path d=\"M 19.1875 8.296875 \nL 53.609375 8.296875 \nL 53.609375 0 \nL 7.328125 0 \nL 7.328125 8.296875 \nQ 12.9375 14.109375 22.625 23.890625 \nQ 32.328125 33.6875 34.8125 36.53125 \nQ 39.546875 41.84375 41.421875 45.53125 \nQ 43.3125 49.21875 43.3125 52.78125 \nQ 43.3125 58.59375 39.234375 62.25 \nQ 35.15625 65.921875 28.609375 65.921875 \nQ 23.96875 65.921875 18.8125 64.3125 \nQ 13.671875 62.703125 7.8125 59.421875 \nL 7.8125 69.390625 \nQ 13.765625 71.78125 18.9375 73 \nQ 24.125 74.21875 28.421875 74.21875 \nQ 39.75 74.21875 46.484375 68.546875 \nQ 53.21875 62.890625 53.21875 53.421875 \nQ 53.21875 48.921875 51.53125 44.890625 \nQ 49.859375 40.875 45.40625 35.40625 \nQ 44.1875 33.984375 37.640625 27.21875 \nQ 31.109375 20.453125 19.1875 8.296875 \nz\n\" id=\"DejaVuSans-50\"/>\n      </defs>\n      <g transform=\"translate(7.2 292.090051)scale(0.1 -0.1)\">\n       <use xlink:href=\"#DejaVuSans-48\"/>\n       <use x=\"63.623047\" xlink:href=\"#DejaVuSans-46\"/>\n       <use x=\"95.410156\" xlink:href=\"#DejaVuSans-48\"/>\n       <use x=\"159.033203\" xlink:href=\"#DejaVuSans-50\"/>\n      </g>\n     </g>\n    </g>\n    <g id=\"ytick_4\">\n     <g id=\"line2d_45\">\n      <g>\n       <use style=\"stroke:#000000;stroke-width:0.8;\" x=\"36.465625\" xlink:href=\"#m286e350bdf\" y=\"205.277187\"/>\n      </g>\n     </g>\n     <g id=\"text_45\">\n      <!-- 0.03 -->\n      <defs>\n       <path d=\"M 40.578125 39.3125 \nQ 47.65625 37.796875 51.625 33 \nQ 55.609375 28.21875 55.609375 21.1875 \nQ 55.609375 10.40625 48.1875 4.484375 \nQ 40.765625 -1.421875 27.09375 -1.421875 \nQ 22.515625 -1.421875 17.65625 -0.515625 \nQ 12.796875 0.390625 7.625 2.203125 \nL 7.625 11.71875 \nQ 11.71875 9.328125 16.59375 8.109375 \nQ 21.484375 6.890625 26.8125 6.890625 \nQ 36.078125 6.890625 40.9375 10.546875 \nQ 45.796875 14.203125 45.796875 21.1875 \nQ 45.796875 27.640625 41.28125 31.265625 \nQ 36.765625 34.90625 28.71875 34.90625 \nL 20.21875 34.90625 \nL 20.21875 43.015625 \nL 29.109375 43.015625 \nQ 36.375 43.015625 40.234375 45.921875 \nQ 44.09375 48.828125 44.09375 54.296875 \nQ 44.09375 59.90625 40.109375 62.90625 \nQ 36.140625 65.921875 28.71875 65.921875 \nQ 24.65625 65.921875 20.015625 65.03125 \nQ 15.375 64.15625 9.8125 62.3125 \nL 9.8125 71.09375 \nQ 15.4375 72.65625 20.34375 73.4375 \nQ 25.25 74.21875 29.59375 74.21875 \nQ 40.828125 74.21875 47.359375 69.109375 \nQ 53.90625 64.015625 53.90625 55.328125 \nQ 53.90625 49.265625 50.4375 45.09375 \nQ 46.96875 40.921875 40.578125 39.3125 \nz\n\" id=\"DejaVuSans-51\"/>\n      </defs>\n      <g transform=\"translate(7.2 209.076405)scale(0.1 -0.1)\">\n       <use xlink:href=\"#DejaVuSans-48\"/>\n       <use x=\"63.623047\" xlink:href=\"#DejaVuSans-46\"/>\n       <use x=\"95.410156\" xlink:href=\"#DejaVuSans-48\"/>\n       <use x=\"159.033203\" xlink:href=\"#DejaVuSans-51\"/>\n      </g>\n     </g>\n    </g>\n    <g id=\"ytick_5\">\n     <g id=\"line2d_46\">\n      <g>\n       <use style=\"stroke:#000000;stroke-width:0.8;\" x=\"36.465625\" xlink:href=\"#m286e350bdf\" y=\"122.26354\"/>\n      </g>\n     </g>\n     <g id=\"text_46\">\n      <!-- 0.04 -->\n      <defs>\n       <path d=\"M 37.796875 64.3125 \nL 12.890625 25.390625 \nL 37.796875 25.390625 \nz\nM 35.203125 72.90625 \nL 47.609375 72.90625 \nL 47.609375 25.390625 \nL 58.015625 25.390625 \nL 58.015625 17.1875 \nL 47.609375 17.1875 \nL 47.609375 0 \nL 37.796875 0 \nL 37.796875 17.1875 \nL 4.890625 17.1875 \nL 4.890625 26.703125 \nz\n\" id=\"DejaVuSans-52\"/>\n      </defs>\n      <g transform=\"translate(7.2 126.062759)scale(0.1 -0.1)\">\n       <use xlink:href=\"#DejaVuSans-48\"/>\n       <use x=\"63.623047\" xlink:href=\"#DejaVuSans-46\"/>\n       <use x=\"95.410156\" xlink:href=\"#DejaVuSans-48\"/>\n       <use x=\"159.033203\" xlink:href=\"#DejaVuSans-52\"/>\n      </g>\n     </g>\n    </g>\n    <g id=\"ytick_6\">\n     <g id=\"line2d_47\">\n      <g>\n       <use style=\"stroke:#000000;stroke-width:0.8;\" x=\"36.465625\" xlink:href=\"#m286e350bdf\" y=\"39.249894\"/>\n      </g>\n     </g>\n     <g id=\"text_47\">\n      <!-- 0.05 -->\n      <defs>\n       <path d=\"M 10.796875 72.90625 \nL 49.515625 72.90625 \nL 49.515625 64.59375 \nL 19.828125 64.59375 \nL 19.828125 46.734375 \nQ 21.96875 47.46875 24.109375 47.828125 \nQ 26.265625 48.1875 28.421875 48.1875 \nQ 40.625 48.1875 47.75 41.5 \nQ 54.890625 34.8125 54.890625 23.390625 \nQ 54.890625 11.625 47.5625 5.09375 \nQ 40.234375 -1.421875 26.90625 -1.421875 \nQ 22.3125 -1.421875 17.546875 -0.640625 \nQ 12.796875 0.140625 7.71875 1.703125 \nL 7.71875 11.625 \nQ 12.109375 9.234375 16.796875 8.0625 \nQ 21.484375 6.890625 26.703125 6.890625 \nQ 35.15625 6.890625 40.078125 11.328125 \nQ 45.015625 15.765625 45.015625 23.390625 \nQ 45.015625 31 40.078125 35.4375 \nQ 35.15625 39.890625 26.703125 39.890625 \nQ 22.75 39.890625 18.8125 39.015625 \nQ 14.890625 38.140625 10.796875 36.28125 \nz\n\" id=\"DejaVuSans-53\"/>\n      </defs>\n      <g transform=\"translate(7.2 43.049113)scale(0.1 -0.1)\">\n       <use xlink:href=\"#DejaVuSans-48\"/>\n       <use x=\"63.623047\" xlink:href=\"#DejaVuSans-46\"/>\n       <use x=\"95.410156\" xlink:href=\"#DejaVuSans-48\"/>\n       <use x=\"159.033203\" xlink:href=\"#DejaVuSans-53\"/>\n      </g>\n     </g>\n    </g>\n   </g>\n   <g id=\"patch_44\">\n    <path d=\"M 36.465625 454.318125 \nL 36.465625 22.318125 \n\" style=\"fill:none;stroke:#000000;stroke-linecap:square;stroke-linejoin:miter;stroke-width:0.8;\"/>\n   </g>\n   <g id=\"patch_45\">\n    <path d=\"M 1476.465625 454.318125 \nL 1476.465625 22.318125 \n\" style=\"fill:none;stroke:#000000;stroke-linecap:square;stroke-linejoin:miter;stroke-width:0.8;\"/>\n   </g>\n   <g id=\"patch_46\">\n    <path d=\"M 36.465625 454.318125 \nL 1476.465625 454.318125 \n\" style=\"fill:none;stroke:#000000;stroke-linecap:square;stroke-linejoin:miter;stroke-width:0.8;\"/>\n   </g>\n   <g id=\"patch_47\">\n    <path d=\"M 36.465625 22.318125 \nL 1476.465625 22.318125 \n\" style=\"fill:none;stroke:#000000;stroke-linecap:square;stroke-linejoin:miter;stroke-width:0.8;\"/>\n   </g>\n   <g id=\"text_48\">\n    <!-- individual mnemonic weights for predicting mode incidence -->\n    <defs>\n     <path id=\"DejaVuSans-32\"/>\n     <path d=\"M 4.203125 54.6875 \nL 13.1875 54.6875 \nL 24.421875 12.015625 \nL 35.59375 54.6875 \nL 46.1875 54.6875 \nL 57.421875 12.015625 \nL 68.609375 54.6875 \nL 77.59375 54.6875 \nL 63.28125 0 \nL 52.6875 0 \nL 40.921875 44.828125 \nL 29.109375 0 \nL 18.5 0 \nz\n\" id=\"DejaVuSans-119\"/>\n    </defs>\n    <g transform=\"translate(576.560313 16.318125)scale(0.12 -0.12)\">\n     <use xlink:href=\"#DejaVuSans-105\"/>\n     <use x=\"27.783203\" xlink:href=\"#DejaVuSans-110\"/>\n     <use x=\"91.162109\" xlink:href=\"#DejaVuSans-100\"/>\n     <use x=\"154.638672\" xlink:href=\"#DejaVuSans-105\"/>\n     <use x=\"182.421875\" xlink:href=\"#DejaVuSans-118\"/>\n     <use x=\"241.601562\" xlink:href=\"#DejaVuSans-105\"/>\n     <use x=\"269.384766\" xlink:href=\"#DejaVuSans-100\"/>\n     <use x=\"332.861328\" xlink:href=\"#DejaVuSans-117\"/>\n     <use x=\"396.240234\" xlink:href=\"#DejaVuSans-97\"/>\n     <use x=\"457.519531\" xlink:href=\"#DejaVuSans-108\"/>\n     <use x=\"485.302734\" xlink:href=\"#DejaVuSans-32\"/>\n     <use x=\"517.089844\" xlink:href=\"#DejaVuSans-109\"/>\n     <use x=\"614.501953\" xlink:href=\"#DejaVuSans-110\"/>\n     <use x=\"677.880859\" xlink:href=\"#DejaVuSans-101\"/>\n     <use x=\"739.404297\" xlink:href=\"#DejaVuSans-109\"/>\n     <use x=\"836.816406\" xlink:href=\"#DejaVuSans-111\"/>\n     <use x=\"897.998047\" xlink:href=\"#DejaVuSans-110\"/>\n     <use x=\"961.376953\" xlink:href=\"#DejaVuSans-105\"/>\n     <use x=\"989.160156\" xlink:href=\"#DejaVuSans-99\"/>\n     <use x=\"1044.140625\" xlink:href=\"#DejaVuSans-32\"/>\n     <use x=\"1075.927734\" xlink:href=\"#DejaVuSans-119\"/>\n     <use x=\"1157.714844\" xlink:href=\"#DejaVuSans-101\"/>\n     <use x=\"1219.238281\" xlink:href=\"#DejaVuSans-105\"/>\n     <use x=\"1247.021484\" xlink:href=\"#DejaVuSans-103\"/>\n     <use x=\"1310.498047\" xlink:href=\"#DejaVuSans-104\"/>\n     <use x=\"1373.876953\" xlink:href=\"#DejaVuSans-116\"/>\n     <use x=\"1413.085938\" xlink:href=\"#DejaVuSans-115\"/>\n     <use x=\"1465.185547\" xlink:href=\"#DejaVuSans-32\"/>\n     <use x=\"1496.972656\" xlink:href=\"#DejaVuSans-102\"/>\n     <use x=\"1532.177734\" xlink:href=\"#DejaVuSans-111\"/>\n     <use x=\"1593.359375\" xlink:href=\"#DejaVuSans-114\"/>\n     <use x=\"1634.472656\" xlink:href=\"#DejaVuSans-32\"/>\n     <use x=\"1666.259766\" xlink:href=\"#DejaVuSans-112\"/>\n     <use x=\"1729.736328\" xlink:href=\"#DejaVuSans-114\"/>\n     <use x=\"1770.818359\" xlink:href=\"#DejaVuSans-101\"/>\n     <use x=\"1832.341797\" xlink:href=\"#DejaVuSans-100\"/>\n     <use x=\"1895.818359\" xlink:href=\"#DejaVuSans-105\"/>\n     <use x=\"1923.601562\" xlink:href=\"#DejaVuSans-99\"/>\n     <use x=\"1978.582031\" xlink:href=\"#DejaVuSans-116\"/>\n     <use x=\"2017.791016\" xlink:href=\"#DejaVuSans-105\"/>\n     <use x=\"2045.574219\" xlink:href=\"#DejaVuSans-110\"/>\n     <use x=\"2108.953125\" xlink:href=\"#DejaVuSans-103\"/>\n     <use x=\"2172.429688\" xlink:href=\"#DejaVuSans-32\"/>\n     <use x=\"2204.216797\" xlink:href=\"#DejaVuSans-109\"/>\n     <use x=\"2301.628906\" xlink:href=\"#DejaVuSans-111\"/>\n     <use x=\"2362.810547\" xlink:href=\"#DejaVuSans-100\"/>\n     <use x=\"2426.287109\" xlink:href=\"#DejaVuSans-101\"/>\n     <use x=\"2487.810547\" xlink:href=\"#DejaVuSans-32\"/>\n     <use x=\"2519.597656\" xlink:href=\"#DejaVuSans-105\"/>\n     <use x=\"2547.380859\" xlink:href=\"#DejaVuSans-110\"/>\n     <use x=\"2610.759766\" xlink:href=\"#DejaVuSans-99\"/>\n     <use x=\"2665.740234\" xlink:href=\"#DejaVuSans-105\"/>\n     <use x=\"2693.523438\" xlink:href=\"#DejaVuSans-100\"/>\n     <use x=\"2757\" xlink:href=\"#DejaVuSans-101\"/>\n     <use x=\"2818.523438\" xlink:href=\"#DejaVuSans-110\"/>\n     <use x=\"2881.902344\" xlink:href=\"#DejaVuSans-99\"/>\n     <use x=\"2936.882812\" xlink:href=\"#DejaVuSans-101\"/>\n    </g>\n   </g>\n  </g>\n </g>\n <defs>\n  <clipPath id=\"p22f4f8e0be\">\n   <rect height=\"432\" width=\"1440\" x=\"36.465625\" y=\"22.318125\"/>\n  </clipPath>\n </defs>\n</svg>\n",
      "image/png": "[encoded data removed]"
     },
     "metadata": {
      "needs_background": "light"
     }
    }
   ],
   "source": [
    "import matplotlib.pyplot as plt\n",
    "fig = plt.figure(figsize=(20, 6))\n",
    "ax = fig.add_axes([0, 0, 1, 1])\n",
    "ax.set_title(\"individual mnemonic weights for predicting mode incidence\")\n",
    "ax.bar([w[0] for w in weights], [w[1] for w in weights])\n",
    "plt.show()"
   ]
  },
  {
   "cell_type": "code",
   "execution_count": 234,
   "metadata": {},
   "outputs": [
    {
     "output_type": "execute_result",
     "data": {
      "text/plain": [
       "{'fix_div', 'fix_tan'}"
      ]
     },
     "metadata": {},
     "execution_count": 234
    }
   ],
   "source": [
    "set([i.function for i in all_instrs if i.mnemonic == \"sxtw\"])"
   ]
  }
 ],
 "metadata": {
  "kernelspec": {
   "display_name": "Python 3",
   "language": "python",
   "name": "python3"
  },
  "language_info": {
   "codemirror_mode": {
    "name": "ipython",
    "version": 3
   },
   "file_extension": ".py",
   "mimetype": "text/x-python",
   "name": "python",
   "nbconvert_exporter": "python",
   "pygments_lexer": "ipython3",
   "version": "3.8.2-final"
  }
 },
 "nbformat": 4,
 "nbformat_minor": 4
}