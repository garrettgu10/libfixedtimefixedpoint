{
 "cells": [
  {
   "cell_type": "code",
   "execution_count": 181,
   "metadata": {},
   "outputs": [],
   "source": [
    "class Instr(object):\n",
    "    def __init__(self, function, addr, mnemonic, op_str):\n",
    "        self.function = function\n",
    "        self.addr = addr\n",
    "        self.mnemonic = mnemonic\n",
    "        self.op_str = op_str\n",
    "    def __str__(self):\n",
    "        return f'{self.function}@{hex(self.addr)}: {self.mnemonic} {self.op_str}'\n",
    "\n",
    "class Line(object):\n",
    "    def __init__(self, filename, lineno, addr):\n",
    "        self.filename = filename\n",
    "        self.lineno = lineno\n",
    "        self.addr = addr\n",
    "    def __str__(self):\n",
    "        return f'{self.filename}:{self.lineno}({hex(self.addr)})'"
   ]
  },
  {
   "cell_type": "code",
   "execution_count": 182,
   "metadata": {},
   "outputs": [],
   "source": [
    "from elftools.elf.elffile import ELFFile\n",
    "from elftools.elf.sections import SymbolTableSection\n",
    "\n",
    "file = open(\"libftfp.so\", \"rb\")\n",
    "elf = ELFFile(file)\n",
    "sections = list(elf.iter_sections())\n",
    "text_section = [s for s in sections if s.name == \".text\"][0]"
   ]
  },
  {
   "cell_type": "code",
   "execution_count": 183,
   "metadata": {},
   "outputs": [],
   "source": [
    "symbol_tables = [s for s in sections if isinstance(s, SymbolTableSection)]\n",
    "dynsym = [s for s in symbol_tables if s.name == \".dynsym\"][0];"
   ]
  },
  {
   "cell_type": "code",
   "execution_count": 184,
   "metadata": {},
   "outputs": [],
   "source": [
    "functions = [sym for _, sym in enumerate(dynsym.iter_symbols()) if sym['st_info']['type'] == \"STT_FUNC\" and sym.name[:4] == \"fix_\"]"
   ]
  },
  {
   "cell_type": "code",
   "execution_count": 185,
   "metadata": {},
   "outputs": [],
   "source": [
    "def get_function_code(function):\n",
    "    begin_idx = function['st_value'] - text_section['sh_offset']\n",
    "    end_idx = begin_idx + function['st_size']\n",
    "    return text_section.data()[begin_idx:end_idx]"
   ]
  },
  {
   "cell_type": "code",
   "execution_count": 186,
   "metadata": {},
   "outputs": [],
   "source": [
    "general_purpose_regs = [\"W\" + str(i) for i in range(0, 31)] + [\"X\" + str(i) for i in range(0, 31)] + [\"SP\", \"LR\", \"XZR\"]\n",
    "dit_instrs = ['ADC', 'ADCS', 'ADD', 'ADDS', 'AND', 'ANDS', 'ASR', 'ASRV', 'BFC', 'BFI', 'BFM', 'BFXIL', 'BIC', 'BICS', 'CCMN', 'CCMP', 'CFINV', 'CINC', 'CINV', 'CLS', 'CLZ', 'CMN', 'CMP', 'CNEG', 'CSEL', 'CSET', 'CSETM', 'CSINC', 'CSINV', 'CSNEG', 'EON', 'EOR', 'EXTR', 'LSL', 'LSLV', 'LSR', 'LSRV', 'MADD', 'MNEG', 'MOV', 'MOVK', 'MOVN', 'MOVZ', 'MSUB', 'MUL', 'MVN', 'NEG', 'NEGS', 'NGC', 'NGCS', 'NOP', 'ORN', 'ORR', 'RBIT', 'RET', 'REV', 'REV16', 'REV32', 'REV64', 'RMIF', 'ROR', 'RORV', 'SBC', 'SBCS', 'SBFIZ', 'SBFM', 'SBFX', 'SETF8', 'SETF16', 'SMADDL', 'SMNEGL', 'SMSUBL', 'SMULH', 'SMULL', 'SUB', 'SUBS', 'SXTB', 'SXTH', 'SXTW', 'TST', 'UBFIZ', 'UBFM', 'UBFX', 'UMADDL', 'UMNEGL', 'UMSUBL', 'UMULH', 'UMULL', 'UXTB', 'UXTH'] # these are the instructions for the general-purpose register file\n",
    "dit_simd_instrs = [\"ABS\", \"ADD\", \"ADDHN\", \"ADDHN2\", \"ADDP\", \"ADDV\", \"AND\", \"BIC\", \"BIF\", \"BIT\", \"BSL\", \"CLS\", \"CLZ\", \"CMEQ\", \"CMGE\", \"CMGT\", \"CMHI\", \"CMHS\", \"CMLE\", \"CMLT\", \"CMTST\", \"CNT\", \"CRC32B\", \"CRC32H\", \"CRC32W\", \"CRC32X\", \"CRC32CB\", \"CRC32CH\", \"CRC32CW\", \"CRC32CX\", \"DUP\", \"EOR\", \"EXT\", \"FCSEL\", \"INS\", \"MLA\", \"MLS\", \"MOV\", \"MOVI\", \"MUL\", \"MVN\", \"MVNI\", \"NEG\", \"NOT\", \"ORN\", \"ORR\", \"PMUL\", \"PMULL\", \"PMULL2\", \"RADDHN\", \"RADDHN2\", \"RBIT\", \"REV16\", \"REV32\", \"RSHRN\", \"RSHRN2\", \"RSUBHN\", \"RSUBHN2\", \"SABA\", \"SABD\", \"SABAL\", \"SABAL2\", \"SABDL\", \"SABDL2\", \"SADALP\", \"SADDL\", \"SADDL2\", \"SADDLP\", \"SADDLV\", \"SADDW\", \"SADDW2\", \"SHADD\", \"SHL\", \"SHLL\", \"SHLL2\", \"SHRN\", \"SHRN2\", \"SHSUB\", \"SLI\", \"SMAX\", \"SMAXP\", \"SMAXV\", \"SMIN\", \"SMINP\", \"SMINV\", \"SMLAL\", \"SMLAL2\", \"SMLSL\", \"SMLSL2\", \"SMOV\", \"SMULL\", \"SMULL2\", \"SRI\", \"SSHL\", \"SSHLL\", \"SSHLL2\", \"SSHR\", \"SSRA\", \"SSUBL\", \"SSUBL2\", \"SSUBW\", \"SSUBW2\", \"SUB\", \"SUBHN\", \"SUBHN2\", \"SXTL\", \"SXTL2\", \"TBL\", \"TBX\", \"TRN1\", \"TRN2\", \"UABA\", \"UABAL\", \"UABAL2\", \"UABD\", \"UABDL\", \"UABDL2\", \"UADALP\", \"UADDL\", \"UADDL2\", \"UADDLP\", \"UADDLV\", \"UADDW\", \"UADDW2\", \"UHADD\", \"UHSUB\", \"UMAX\", \"UMAXP\", \"UMAXV\", \"UMIN\", \"UMINP\", \"UMINV\", \"UMLAL\", \"UMLAL2\", \"UMLSL\", \"UMOV\", \"UMLSL2\", \"UMULL\", \"UMULL2\", \"USHL\", \"USHLL\", \"USHLL2\", \"USHR\", \"USRA\", \"USUBL\", \"USUBL2\", \"USUBW\", \"USUBW2\", \"UXTL\", \"UXTL2\", \"UZP1\", \"UZP2\", \"XTN\", \"XTN2\", \"ZIP1\", \"ZIP2\"] # these are the instructions for the SIMD & FP register file"
   ]
  },
  {
   "cell_type": "code",
   "execution_count": 187,
   "metadata": {
    "tags": []
   },
   "outputs": [],
   "source": [
    "from capstone import *\n",
    "\n",
    "bad_instrs = []\n",
    "md = Cs(CS_ARCH_ARM64, CS_MODE_ARM)\n",
    "\n",
    "for function in functions:\n",
    "    code = get_function_code(function)\n",
    "    \n",
    "    instrs = [i for i in md.disasm_lite(code, function['st_value'])]\n",
    "    \n",
    "    if(len(instrs) != len(code) / 4): \n",
    "        print(\"invalid disassembly for \" + function.name)\n",
    "        continue\n",
    "    \n",
    "    for (addr, size, mnemonic, op_str) in instrs:\n",
    "        if(op_str == '' or op_str.split(\",\")[0].upper() in general_purpose_regs):\n",
    "            if(mnemonic.upper() not in dit_instrs):\n",
    "                bad_instrs += [Instr(function.name, addr, mnemonic, op_str)]\n",
    "        elif(mnemonic.upper() not in dit_simd_instrs):\n",
    "            bad_instrs += [Instr(function.name, addr, mnemonic, op_str)]"
   ]
  },
  {
   "cell_type": "code",
   "execution_count": 188,
   "metadata": {},
   "outputs": [
    {
     "output_type": "execute_result",
     "data": {
      "text/plain": "{'adrp', 'b.ne', 'bl', 'cbnz', 'fmov', 'ldp', 'ldr', 'stp', 'str', 'strb'}"
     },
     "metadata": {},
     "execution_count": 188
    }
   ],
   "source": [
    "set([i.mnemonic for i in bad_instrs])"
   ]
  },
  {
   "cell_type": "code",
   "execution_count": 193,
   "metadata": {
    "tags": []
   },
   "outputs": [],
   "source": [
    "from bisect import bisect_left\n",
    "\n",
    "dwarf = elf.get_dwarf_info()\n",
    "def get_lines_from_cu(cu):\n",
    "    res = []\n",
    "    lineprogram = dwarf.line_program_for_CU(cu)\n",
    "    for entry in lineprogram.get_entries():\n",
    "        state = entry.state\n",
    "        if state is not None:\n",
    "            res += [Line(lineprogram['file_entry'][state.file-1].name, state.line, state.address)]\n",
    "    return res\n",
    "\n",
    "def get_lines_from_dwarf(dwarf):\n",
    "    res = []\n",
    "    for cu in dwarf.iter_CUs():\n",
    "        res += get_lines_from_cu(cu)\n",
    "    return sorted(res, key=lambda l: l.addr)\n",
    "\n",
    "def find_line(lines, addr):\n",
    "    exact_matches = [l for l in filter(lambda line: line.addr == addr, lines)]\n",
    "    if(len(exact_matches) != 0):\n",
    "        return exact_matches\n",
    "    addrs = [l.addr for l in lines]\n",
    "    return [lines[bisect_left(addrs, addr) - 1]]\n",
    "\n",
    "lines = get_lines_from_dwarf(dwarf)"
   ]
  },
  {
   "cell_type": "code",
   "execution_count": 200,
   "metadata": {},
   "outputs": [
    {
     "output_type": "execute_result",
     "data": {
      "text/plain": "[]"
     },
     "metadata": {},
     "execution_count": 200
    }
   ],
   "source": [
    "#stores outside of the stack\n",
    "[(str(i), str(find_line(lines, i.addr)[0])) for i in bad_instrs if i.mnemonic == \"str\" and i.op_str.split(\", \")[1][0:3] != \"[sp\"]\n"
   ]
  },
  {
   "cell_type": "code",
   "execution_count": 205,
   "metadata": {},
   "outputs": [
    {
     "output_type": "execute_result",
     "data": {
      "text/plain": "[('fix_sprint@0x1b34: strb w3, [x19, #0x3f]', \"b'autogen.c':80(0x1b34)\"),\n ('fix_sprint@0x1b64: strb w3, [x19, #0x3e]', \"b'autogen.c':82(0x1b64)\"),\n ('fix_sprint@0x1ba0: strb w3, [x19, #0x3d]', \"b'autogen.c':84(0x1ba0)\"),\n ('fix_sprint@0x1bf8: strb w3, [x19, #0x3c]', \"b'autogen.c':86(0x1bf8)\"),\n ('fix_sprint@0x1c34: strb w3, [x19, #0x3b]', \"b'autogen.c':88(0x1c34)\"),\n ('fix_sprint@0x1c94: strb w10, [x19, #0x3a]', \"b'autogen.c':90(0x1c94)\"),\n ('fix_sprint@0x1ce4: strb w11, [x19, #0x39]', \"b'autogen.c':92(0x1ce4)\"),\n ('fix_sprint@0x1d68: strb w18, [x19, #0x38]', \"b'autogen.c':94(0x1d68)\"),\n ('fix_sprint@0x1dec: strb w4, [x19, #0x37]', \"b'autogen.c':96(0x1dec)\"),\n ('fix_sprint@0x1ea8: strb w15, [x19, #0x36]', \"b'autogen.c':98(0x1ea8)\"),\n ('fix_sprint@0x1f4c: strb w18, [x19, #0x35]', \"b'autogen.c':100(0x1f4c)\"),\n ('fix_sprint@0x1fec: strb w18, [x19, #0x34]', \"b'autogen.c':102(0x1fec)\"),\n ('fix_sprint@0x2080: strb w20, [x19, #0x33]', \"b'autogen.c':104(0x2080)\"),\n ('fix_sprint@0x2124: strb w18, [x19, #0x32]', \"b'autogen.c':106(0x2124)\"),\n ('fix_sprint@0x21bc: strb w8, [x19, #0x31]', \"b'autogen.c':108(0x21bc)\"),\n ('fix_sprint@0x2278: strb w23, [x19, #0x30]', \"b'autogen.c':110(0x2278)\"),\n ('fix_sprint@0x2304: strb w13, [x19, #0x2f]', \"b'autogen.c':112(0x2304)\"),\n ('fix_sprint@0x23d8: strb w9, [x19, #0x2e]', \"b'autogen.c':114(0x23d8)\"),\n ('fix_sprint@0x24a8: strb w3, [x19, #0x2d]', \"b'autogen.c':116(0x24a8)\"),\n ('fix_sprint@0x25e8: strb w8, [x19, #0x2c]', \"b'autogen.c':118(0x25e8)\"),\n ('fix_sprint@0x26f8: strb w3, [x19, #0x2b]', \"b'autogen.c':120(0x26f8)\"),\n ('fix_sprint@0x280c: strb w18, [x19, #0x2a]', \"b'autogen.c':122(0x280c)\"),\n ('fix_sprint@0x28c4: strb w8, [x19, #0x29]', \"b'autogen.c':124(0x28c4)\"),\n ('fix_sprint@0x29ac: strb w11, [x19, #0x28]', \"b'autogen.c':126(0x29ac)\"),\n ('fix_sprint@0x2aec: strb w8, [x19, #0x27]', \"b'autogen.c':128(0x2aec)\"),\n ('fix_sprint@0x2c44: strb w21, [x19, #0x26]', \"b'autogen.c':130(0x2c44)\"),\n ('fix_sprint@0x2d64: strb w8, [x19, #0x25]', \"b'autogen.c':132(0x2d64)\"),\n ('fix_sprint@0x2e68: strb w8, [x19, #0x24]', \"b'autogen.c':134(0x2e68)\"),\n ('fix_sprint@0x2f84: strb w21, [x19, #0x23]', \"b'autogen.c':136(0x2f84)\"),\n ('fix_sprint@0x30a8: strb w8, [x19, #0x22]', \"b'autogen.c':138(0x30a8)\"),\n ('fix_sprint@0x31ac: strb w11, [x19, #0x21]', \"b'autogen.c':140(0x31ac)\"),\n ('fix_sprint@0x32fc: strb w8, [x19, #0x20]', \"b'autogen.c':142(0x32fc)\"),\n ('fix_sprint@0x33f8: strb w9, [x19, #0x1f]', \"b'autogen.c':144(0x33f8)\"),\n ('fix_sprint@0x3578: strb w8, [x19, #0x1e]', \"b'autogen.c':146(0x3578)\"),\n ('fix_sprint@0x36ec: strb w3, [x19, #0x1d]', \"b'autogen.c':148(0x36ec)\"),\n ('fix_sprint@0x3804: strb w15, [x19, #0x1c]', \"b'autogen.c':150(0x3804)\"),\n ('fix_sprint@0x3950: strb w17, [x19, #0x1b]', \"b'autogen.c':152(0x3950)\"),\n ('fix_sprint@0x3ab0: strb w4, [x19, #0x1a]', \"b'autogen.c':154(0x3ab0)\"),\n ('fix_sprint@0x3be8: strb w4, [x19, #0x19]', \"b'autogen.c':156(0x3be8)\"),\n ('fix_sprint@0x3d70: strb w8, [x19, #0x18]', \"b'autogen.c':158(0x3d70)\"),\n ('fix_sprint@0x3eec: strb w3, [x19, #0x17]', \"b'autogen.c':160(0x3eec)\"),\n ('fix_sprint@0x4048: strb w13, [x19, #0x16]', \"b'autogen.c':162(0x4048)\"),\n ('fix_sprint@0x41ac: strb w12, [x19, #0x15]', \"b'autogen.c':164(0x41ac)\"),\n ('fix_sprint@0x4348: strb w5, [x19, #0x14]', \"b'autogen.c':166(0x4348)\"),\n ('fix_sprint@0x44a4: strb w3, [x19, #0x13]', \"b'autogen.c':168(0x44a4)\"),\n ('fix_sprint@0x4608: strb w16, [x19, #0x12]', \"b'autogen.c':170(0x4608)\"),\n ('fix_sprint@0x4758: strb w7, [x19, #0x11]', \"b'autogen.c':172(0x4758)\"),\n ('fix_sprint@0x488c: strb w8, [x19, #0x10]', \"b'autogen.c':174(0x488c)\"),\n ('fix_sprint@0x49a0: strb w16, [x19, #0xf]', \"b'autogen.c':176(0x49a0)\"),\n ('fix_sprint@0x4ab0: strb w3, [x19, #0xe]', \"b'autogen.c':178(0x4ab0)\"),\n ('fix_sprint@0x4b88: strb w14, [x19, #0xd]', \"b'autogen.c':180(0x4b88)\"),\n ('fix_sprint@0x4c70: strb w7, [x19, #0xc]', \"b'autogen.c':182(0x4c70)\"),\n ('fix_sprint@0x4d3c: strb w17, [x19, #0xb]', \"b'autogen.c':184(0x4d3c)\"),\n ('fix_sprint@0x4de4: strb w8, [x19, #0xa]', \"b'autogen.c':186(0x4de4)\"),\n ('fix_sprint@0x4e6c: strb w3, [x19, #9]', \"b'autogen.c':188(0x4e6c)\"),\n ('fix_sprint@0x4ee8: strb w6, [x19, #8]', \"b'autogen.c':190(0x4ee8)\"),\n ('fix_sprint@0x4f60: strb w16, [x19, #7]', \"b'autogen.c':192(0x4f60)\"),\n ('fix_sprint@0x4fc8: strb w5, [x19, #6]', \"b'autogen.c':194(0x4fc8)\"),\n ('fix_sprint@0x5014: strb w7, [x19, #5]', \"b'autogen.c':196(0x5014)\"),\n ('fix_sprint@0x5054: strb w1, [x19, #4]', \"b'autogen.c':198(0x5054)\"),\n ('fix_sprint@0x50a8: strb w3, [x19, #3]', \"b'autogen.c':200(0x50a8)\"),\n ('fix_sprint@0x50c4: strb w1, [x19, #2]', \"b'autogen.c':203(0x50c4)\"),\n ('fix_sprint@0x50e0: strb w0, [x19, #1]', \"b'autogen.c':205(0x50e0)\"),\n ('fix_sprint@0x5110: strb w2, [x19]', \"b'autogen.c':209(0x5110)\"),\n ('fix_sprint@0x5114: strb wzr, [x19, #0x40]', \"b'autogen.c':210(0x5114)\")]"
     },
     "metadata": {},
     "execution_count": 205
    }
   ],
   "source": [
    "[(str(i), str(find_line(lines, i.addr)[0])) for i in bad_instrs if i.mnemonic == \"strb\"]"
   ]
  }
 ],
 "metadata": {
  "kernelspec": {
   "display_name": "Python 3",
   "language": "python",
   "name": "python3"
  },
  "language_info": {
   "codemirror_mode": {
    "name": "ipython",
    "version": 3
   },
   "file_extension": ".py",
   "mimetype": "text/x-python",
   "name": "python",
   "nbconvert_exporter": "python",
   "pygments_lexer": "ipython3",
   "version": "3.8.2-final"
  }
 },
 "nbformat": 4,
 "nbformat_minor": 4
}